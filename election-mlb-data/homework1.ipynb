{
 "cells": [
  {
   "cell_type": "code",
   "execution_count": 1,
   "metadata": {
    "deletable": false,
    "editable": false
   },
   "outputs": [
    {
     "name": "stdout",
     "output_type": "stream",
     "text": [
      "=====================================================================\n",
      "Assignment: homework1\n",
      "OK, version v1.14.11\n",
      "=====================================================================\n",
      "\n"
     ]
    }
   ],
   "source": [
    "# Initialize OK\n",
    "from client.api.notebook import Notebook\n",
    "ok = Notebook('homework1.ok')"
   ]
  },
  {
   "cell_type": "markdown",
   "metadata": {},
   "source": [
    "# Homework 1\n",
    "## PSTAT 134/234 (Spring 2019)"
   ]
  },
  {
   "cell_type": "markdown",
   "metadata": {},
   "source": [
    "![election_prediction](http://donsnotes.com/politics/images/clinton-trump-rating.png)"
   ]
  },
  {
   "cell_type": "markdown",
   "metadata": {},
   "source": [
    "We haven't yet talked about predictive models in class yet, but we can at least think about what makes a \"good\" prediction.  In this assignment, we'll focus on evaluating the quality of election predictions made by the website [fivethirtyeight.com](https://www.fivethirtyeight.com).  As one prominent example, fivethirtyeight predicted that Clinton had a 70.9% chance to win the election.  Was their model wrong?\n",
    "\n",
    "To gain insight into questions like this, we'll focus on  [US House elections predictions from 2018](https://projects.fivethirtyeight.com/2018-midterm-election-forecast/house/).  Their predictions are based predominantly on polling data but include other sources as well (state of the economy, overall favoriability of politic parties, etc).  \n",
    "\n",
    "This homework is based loosely on [this article](https://projects.fivethirtyeight.com/checking-our-work/).  Please read the article before beginning the assignment.\n"
   ]
  },
  {
   "cell_type": "code",
   "execution_count": 2,
   "metadata": {},
   "outputs": [
    {
     "name": "stdout",
     "output_type": "stream",
     "text": [
      "--2019-04-20 20:49:25--  https://raw.githubusercontent.com/fivethirtyeight/checking-our-work-data/master/us_house_elections.csv\n",
      "Resolving raw.githubusercontent.com (raw.githubusercontent.com)... 151.101.0.133, 151.101.64.133, 151.101.128.133, ...\n",
      "Connecting to raw.githubusercontent.com (raw.githubusercontent.com)|151.101.0.133|:443... connected.\n",
      "HTTP request sent, awaiting response... 200 OK\n",
      "Length: 24027649 (23M) [text/plain]\n",
      "Saving to: ‘us_house_elections.csv.8’\n",
      "\n",
      "us_house_elections. 100%[===================>]  22.91M  --.-KB/s    in 0.1s    \n",
      "\n",
      "2019-04-20 20:49:25 (163 MB/s) - ‘us_house_elections.csv.8’ saved [24027649/24027649]\n",
      "\n"
     ]
    }
   ],
   "source": [
    "!wget https://raw.githubusercontent.com/fivethirtyeight/checking-our-work-data/master/us_house_elections.csv"
   ]
  },
  {
   "cell_type": "markdown",
   "metadata": {},
   "source": [
    "`ls` command can be used to verify that the file is now listed in our folder.   "
   ]
  },
  {
   "cell_type": "code",
   "execution_count": 3,
   "metadata": {
    "scrolled": true
   },
   "outputs": [
    {
     "name": "stdout",
     "output_type": "stream",
     "text": [
      "total 217692\r\n",
      "-rw-rw-r-- 1 jovyan users   218596 Apr 20 20:47 homework1.ipynb\r\n",
      "-rw-rw-r-- 1 jovyan users      186 Apr 11 16:33 homework1.ok\r\n",
      "-rw-rw-r-- 1 jovyan users    98620 Apr 20 16:35 homework1.pdf\r\n",
      "-rw-rw-r-- 1 jovyan users   562029 Apr 19 00:03 mlb_games.csv\r\n",
      "-rw-rw-r-- 1 jovyan users   562029 Apr 19 00:22 mlb_games.csv.1\r\n",
      "-rw-rw-r-- 1 jovyan users   562029 Apr 20 16:27 mlb_games.csv.10\r\n",
      "-rw-rw-r-- 1 jovyan users   562029 Apr 19 19:25 mlb_games.csv.2\r\n",
      "-rw-rw-r-- 1 jovyan users   562029 Apr 19 19:30 mlb_games.csv.3\r\n",
      "-rw-rw-r-- 1 jovyan users   562029 Apr 19 19:33 mlb_games.csv.4\r\n",
      "-rw-rw-r-- 1 jovyan users   562029 Apr 20 04:09 mlb_games.csv.5\r\n",
      "-rw-rw-r-- 1 jovyan users   562029 Apr 20 05:31 mlb_games.csv.6\r\n",
      "-rw-rw-r-- 1 jovyan users   562029 Apr 20 05:32 mlb_games.csv.7\r\n",
      "-rw-rw-r-- 1 jovyan users   562029 Apr 20 07:29 mlb_games.csv.8\r\n",
      "-rw-rw-r-- 1 jovyan users   562029 Apr 20 16:20 mlb_games.csv.9\r\n",
      "drwxrwsr-x 3 jovyan users     4096 Apr 12 23:42 tests/\r\n",
      "-rw-rw-r-- 1 jovyan users      749 Apr 20 16:35 test.tplx\r\n",
      "-rw-rw-r-- 1 jovyan users 24027649 Apr 12 23:42 us_house_elections.csv\r\n",
      "-rw-rw-r-- 1 jovyan users 24027649 Apr 19 19:33 us_house_elections.csv.1\r\n",
      "-rw-rw-r-- 1 jovyan users 24027649 Apr 20 04:09 us_house_elections.csv.2\r\n",
      "-rw-rw-r-- 1 jovyan users 24027649 Apr 20 05:31 us_house_elections.csv.3\r\n",
      "-rw-rw-r-- 1 jovyan users 24027649 Apr 20 05:32 us_house_elections.csv.4\r\n",
      "-rw-rw-r-- 1 jovyan users 24027649 Apr 20 07:29 us_house_elections.csv.5\r\n",
      "-rw-rw-r-- 1 jovyan users 24027649 Apr 20 16:20 us_house_elections.csv.6\r\n",
      "-rw-rw-r-- 1 jovyan users 24027649 Apr 20 16:27 us_house_elections.csv.7\r\n",
      "-rw-r--r-- 1 jovyan users 24027649 Apr 20 20:49 us_house_elections.csv.8\r\n"
     ]
    }
   ],
   "source": [
    "!ls -F -l"
   ]
  },
  {
   "cell_type": "code",
   "execution_count": 4,
   "metadata": {},
   "outputs": [
    {
     "name": "stderr",
     "output_type": "stream",
     "text": [
      "/opt/conda/lib/python3.6/site-packages/IPython/core/interactiveshell.py:3049: DtypeWarning: Columns (4) have mixed types. Specify dtype option on import or set low_memory=False.\n",
      "  interactivity=interactivity, compiler=compiler, result=result)\n"
     ]
    }
   ],
   "source": [
    "import pandas as pd ## call pandas functions using \"pd\"\n",
    "import numpy as np  ## call numpy functions using \"np\"\n",
    "election_data = pd.read_csv(\"us_house_elections.csv\")\n",
    "\n"
   ]
  },
  {
   "cell_type": "markdown",
   "metadata": {},
   "source": [
    "## Examining the Data\n",
    "\n",
    "Display the first 10 rows of the dataset using `iloc`."
   ]
  },
  {
   "cell_type": "code",
   "execution_count": 5,
   "metadata": {},
   "outputs": [
    {
     "data": {
      "text/html": [
       "<div>\n",
       "<style scoped>\n",
       "    .dataframe tbody tr th:only-of-type {\n",
       "        vertical-align: middle;\n",
       "    }\n",
       "\n",
       "    .dataframe tbody tr th {\n",
       "        vertical-align: top;\n",
       "    }\n",
       "\n",
       "    .dataframe thead th {\n",
       "        text-align: right;\n",
       "    }\n",
       "</style>\n",
       "<table border=\"1\" class=\"dataframe\">\n",
       "  <thead>\n",
       "    <tr style=\"text-align: right;\">\n",
       "      <th></th>\n",
       "      <th>year</th>\n",
       "      <th>office</th>\n",
       "      <th>state</th>\n",
       "      <th>district</th>\n",
       "      <th>special</th>\n",
       "      <th>election_date</th>\n",
       "      <th>forecast_date</th>\n",
       "      <th>forecast_type</th>\n",
       "      <th>party</th>\n",
       "      <th>candidate</th>\n",
       "      <th>projected_voteshare</th>\n",
       "      <th>actual_voteshare</th>\n",
       "      <th>probwin</th>\n",
       "      <th>probwin_outcome</th>\n",
       "    </tr>\n",
       "  </thead>\n",
       "  <tbody>\n",
       "    <tr>\n",
       "      <th>0</th>\n",
       "      <td>2018</td>\n",
       "      <td>House</td>\n",
       "      <td>WY</td>\n",
       "      <td>1.0</td>\n",
       "      <td>False</td>\n",
       "      <td>2018-11-06</td>\n",
       "      <td>2018-11-06</td>\n",
       "      <td>lite</td>\n",
       "      <td>D</td>\n",
       "      <td>Greg Hunter</td>\n",
       "      <td>33.29836</td>\n",
       "      <td>NaN</td>\n",
       "      <td>0.00134</td>\n",
       "      <td>0</td>\n",
       "    </tr>\n",
       "    <tr>\n",
       "      <th>1</th>\n",
       "      <td>2018</td>\n",
       "      <td>House</td>\n",
       "      <td>WY</td>\n",
       "      <td>1.0</td>\n",
       "      <td>False</td>\n",
       "      <td>2018-11-06</td>\n",
       "      <td>2018-11-06</td>\n",
       "      <td>lite</td>\n",
       "      <td>R</td>\n",
       "      <td>Liz Cheney</td>\n",
       "      <td>61.18835</td>\n",
       "      <td>NaN</td>\n",
       "      <td>0.99866</td>\n",
       "      <td>1</td>\n",
       "    </tr>\n",
       "    <tr>\n",
       "      <th>2</th>\n",
       "      <td>2018</td>\n",
       "      <td>House</td>\n",
       "      <td>WY</td>\n",
       "      <td>1.0</td>\n",
       "      <td>False</td>\n",
       "      <td>2018-11-06</td>\n",
       "      <td>2018-11-06</td>\n",
       "      <td>deluxe</td>\n",
       "      <td>D</td>\n",
       "      <td>Greg Hunter</td>\n",
       "      <td>31.37998</td>\n",
       "      <td>NaN</td>\n",
       "      <td>0.00020</td>\n",
       "      <td>0</td>\n",
       "    </tr>\n",
       "    <tr>\n",
       "      <th>3</th>\n",
       "      <td>2018</td>\n",
       "      <td>House</td>\n",
       "      <td>WY</td>\n",
       "      <td>1.0</td>\n",
       "      <td>False</td>\n",
       "      <td>2018-11-06</td>\n",
       "      <td>2018-11-06</td>\n",
       "      <td>deluxe</td>\n",
       "      <td>R</td>\n",
       "      <td>Liz Cheney</td>\n",
       "      <td>63.10673</td>\n",
       "      <td>NaN</td>\n",
       "      <td>0.99980</td>\n",
       "      <td>1</td>\n",
       "    </tr>\n",
       "    <tr>\n",
       "      <th>4</th>\n",
       "      <td>2018</td>\n",
       "      <td>House</td>\n",
       "      <td>WY</td>\n",
       "      <td>1.0</td>\n",
       "      <td>False</td>\n",
       "      <td>2018-11-06</td>\n",
       "      <td>2018-11-06</td>\n",
       "      <td>classic</td>\n",
       "      <td>D</td>\n",
       "      <td>Greg Hunter</td>\n",
       "      <td>31.33293</td>\n",
       "      <td>NaN</td>\n",
       "      <td>0.00032</td>\n",
       "      <td>0</td>\n",
       "    </tr>\n",
       "    <tr>\n",
       "      <th>5</th>\n",
       "      <td>2018</td>\n",
       "      <td>House</td>\n",
       "      <td>WY</td>\n",
       "      <td>1.0</td>\n",
       "      <td>False</td>\n",
       "      <td>2018-11-06</td>\n",
       "      <td>2018-11-06</td>\n",
       "      <td>classic</td>\n",
       "      <td>R</td>\n",
       "      <td>Liz Cheney</td>\n",
       "      <td>63.15379</td>\n",
       "      <td>NaN</td>\n",
       "      <td>0.99968</td>\n",
       "      <td>1</td>\n",
       "    </tr>\n",
       "    <tr>\n",
       "      <th>6</th>\n",
       "      <td>2018</td>\n",
       "      <td>House</td>\n",
       "      <td>WV</td>\n",
       "      <td>3.0</td>\n",
       "      <td>False</td>\n",
       "      <td>2018-11-06</td>\n",
       "      <td>2018-11-06</td>\n",
       "      <td>lite</td>\n",
       "      <td>D</td>\n",
       "      <td>Richard Neece Ojeda</td>\n",
       "      <td>47.56779</td>\n",
       "      <td>NaN</td>\n",
       "      <td>0.27966</td>\n",
       "      <td>0</td>\n",
       "    </tr>\n",
       "    <tr>\n",
       "      <th>7</th>\n",
       "      <td>2018</td>\n",
       "      <td>House</td>\n",
       "      <td>WV</td>\n",
       "      <td>3.0</td>\n",
       "      <td>False</td>\n",
       "      <td>2018-11-06</td>\n",
       "      <td>2018-11-06</td>\n",
       "      <td>lite</td>\n",
       "      <td>R</td>\n",
       "      <td>Carol Devine Miller</td>\n",
       "      <td>52.43221</td>\n",
       "      <td>NaN</td>\n",
       "      <td>0.72034</td>\n",
       "      <td>1</td>\n",
       "    </tr>\n",
       "    <tr>\n",
       "      <th>8</th>\n",
       "      <td>2018</td>\n",
       "      <td>House</td>\n",
       "      <td>WV</td>\n",
       "      <td>3.0</td>\n",
       "      <td>False</td>\n",
       "      <td>2018-11-06</td>\n",
       "      <td>2018-11-06</td>\n",
       "      <td>deluxe</td>\n",
       "      <td>D</td>\n",
       "      <td>Richard Neece Ojeda</td>\n",
       "      <td>45.14111</td>\n",
       "      <td>NaN</td>\n",
       "      <td>0.09662</td>\n",
       "      <td>0</td>\n",
       "    </tr>\n",
       "    <tr>\n",
       "      <th>9</th>\n",
       "      <td>2018</td>\n",
       "      <td>House</td>\n",
       "      <td>WV</td>\n",
       "      <td>3.0</td>\n",
       "      <td>False</td>\n",
       "      <td>2018-11-06</td>\n",
       "      <td>2018-11-06</td>\n",
       "      <td>deluxe</td>\n",
       "      <td>R</td>\n",
       "      <td>Carol Devine Miller</td>\n",
       "      <td>54.85889</td>\n",
       "      <td>NaN</td>\n",
       "      <td>0.90338</td>\n",
       "      <td>1</td>\n",
       "    </tr>\n",
       "  </tbody>\n",
       "</table>\n",
       "</div>"
      ],
      "text/plain": [
       "   year office state  district special election_date forecast_date  \\\n",
       "0  2018  House    WY       1.0   False    2018-11-06    2018-11-06   \n",
       "1  2018  House    WY       1.0   False    2018-11-06    2018-11-06   \n",
       "2  2018  House    WY       1.0   False    2018-11-06    2018-11-06   \n",
       "3  2018  House    WY       1.0   False    2018-11-06    2018-11-06   \n",
       "4  2018  House    WY       1.0   False    2018-11-06    2018-11-06   \n",
       "5  2018  House    WY       1.0   False    2018-11-06    2018-11-06   \n",
       "6  2018  House    WV       3.0   False    2018-11-06    2018-11-06   \n",
       "7  2018  House    WV       3.0   False    2018-11-06    2018-11-06   \n",
       "8  2018  House    WV       3.0   False    2018-11-06    2018-11-06   \n",
       "9  2018  House    WV       3.0   False    2018-11-06    2018-11-06   \n",
       "\n",
       "  forecast_type party            candidate  projected_voteshare  \\\n",
       "0          lite     D          Greg Hunter             33.29836   \n",
       "1          lite     R           Liz Cheney             61.18835   \n",
       "2        deluxe     D          Greg Hunter             31.37998   \n",
       "3        deluxe     R           Liz Cheney             63.10673   \n",
       "4       classic     D          Greg Hunter             31.33293   \n",
       "5       classic     R           Liz Cheney             63.15379   \n",
       "6          lite     D  Richard Neece Ojeda             47.56779   \n",
       "7          lite     R  Carol Devine Miller             52.43221   \n",
       "8        deluxe     D  Richard Neece Ojeda             45.14111   \n",
       "9        deluxe     R  Carol Devine Miller             54.85889   \n",
       "\n",
       "   actual_voteshare  probwin  probwin_outcome  \n",
       "0               NaN  0.00134                0  \n",
       "1               NaN  0.99866                1  \n",
       "2               NaN  0.00020                0  \n",
       "3               NaN  0.99980                1  \n",
       "4               NaN  0.00032                0  \n",
       "5               NaN  0.99968                1  \n",
       "6               NaN  0.27966                0  \n",
       "7               NaN  0.72034                1  \n",
       "8               NaN  0.09662                0  \n",
       "9               NaN  0.90338                1  "
      ]
     },
     "execution_count": 5,
     "metadata": {},
     "output_type": "execute_result"
    }
   ],
   "source": [
    "election_data.iloc[0:10]"
   ]
  },
  {
   "cell_type": "markdown",
   "metadata": {
    "deletable": false,
    "editable": false
   },
   "source": [
    "Fivethirtyeight has three different prediction models: `lite`, `classic` and `deluxe`, which roughly incorporate an increasing number of assumptions.  In this assignment lets focus on evaluting the quality of the `classic` predictions.  You can read more about how the prediction models work [here](https://fivethirtyeight.com/methodology/how-fivethirtyeights-house-and-senate-models-work/).\n",
    "\n",
    "Fivethirtyeight continuously updated their predictions as more polling data became available for each of the races.  Let's focus on the predictions a few months before the election, on August 11th, and on the morning of election day, November 6th.  \n",
    "\n",
    "### Question 1\n",
    "\n",
    "<!--\n",
    "BEGIN QUESTION\n",
    "name: q1\n",
    "manual: false\n",
    "points: 2\n",
    "-->\n",
    "\n",
    "Create a new pandas dataframe called `election_sub` by filtering to include only rows in which the `forecast_type` is \"classic\", and the date of the foreceast (`forecast_date`) is 8/11 or 11/6."
   ]
  },
  {
   "cell_type": "code",
   "execution_count": 6,
   "metadata": {
    "scrolled": true
   },
   "outputs": [
    {
     "data": {
      "text/html": [
       "<div>\n",
       "<style scoped>\n",
       "    .dataframe tbody tr th:only-of-type {\n",
       "        vertical-align: middle;\n",
       "    }\n",
       "\n",
       "    .dataframe tbody tr th {\n",
       "        vertical-align: top;\n",
       "    }\n",
       "\n",
       "    .dataframe thead th {\n",
       "        text-align: right;\n",
       "    }\n",
       "</style>\n",
       "<table border=\"1\" class=\"dataframe\">\n",
       "  <thead>\n",
       "    <tr style=\"text-align: right;\">\n",
       "      <th></th>\n",
       "      <th>year</th>\n",
       "      <th>office</th>\n",
       "      <th>state</th>\n",
       "      <th>district</th>\n",
       "      <th>special</th>\n",
       "      <th>election_date</th>\n",
       "      <th>forecast_date</th>\n",
       "      <th>forecast_type</th>\n",
       "      <th>party</th>\n",
       "      <th>candidate</th>\n",
       "      <th>projected_voteshare</th>\n",
       "      <th>actual_voteshare</th>\n",
       "      <th>probwin</th>\n",
       "      <th>probwin_outcome</th>\n",
       "    </tr>\n",
       "  </thead>\n",
       "  <tbody>\n",
       "    <tr>\n",
       "      <th>4</th>\n",
       "      <td>2018</td>\n",
       "      <td>House</td>\n",
       "      <td>WY</td>\n",
       "      <td>1.0</td>\n",
       "      <td>False</td>\n",
       "      <td>2018-11-06</td>\n",
       "      <td>2018-11-06</td>\n",
       "      <td>classic</td>\n",
       "      <td>D</td>\n",
       "      <td>Greg Hunter</td>\n",
       "      <td>31.33293</td>\n",
       "      <td>NaN</td>\n",
       "      <td>0.00032</td>\n",
       "      <td>0</td>\n",
       "    </tr>\n",
       "    <tr>\n",
       "      <th>5</th>\n",
       "      <td>2018</td>\n",
       "      <td>House</td>\n",
       "      <td>WY</td>\n",
       "      <td>1.0</td>\n",
       "      <td>False</td>\n",
       "      <td>2018-11-06</td>\n",
       "      <td>2018-11-06</td>\n",
       "      <td>classic</td>\n",
       "      <td>R</td>\n",
       "      <td>Liz Cheney</td>\n",
       "      <td>63.15379</td>\n",
       "      <td>NaN</td>\n",
       "      <td>0.99968</td>\n",
       "      <td>1</td>\n",
       "    </tr>\n",
       "    <tr>\n",
       "      <th>10</th>\n",
       "      <td>2018</td>\n",
       "      <td>House</td>\n",
       "      <td>WV</td>\n",
       "      <td>3.0</td>\n",
       "      <td>False</td>\n",
       "      <td>2018-11-06</td>\n",
       "      <td>2018-11-06</td>\n",
       "      <td>classic</td>\n",
       "      <td>D</td>\n",
       "      <td>Richard Neece Ojeda</td>\n",
       "      <td>44.29584</td>\n",
       "      <td>NaN</td>\n",
       "      <td>0.07366</td>\n",
       "      <td>0</td>\n",
       "    </tr>\n",
       "    <tr>\n",
       "      <th>11</th>\n",
       "      <td>2018</td>\n",
       "      <td>House</td>\n",
       "      <td>WV</td>\n",
       "      <td>3.0</td>\n",
       "      <td>False</td>\n",
       "      <td>2018-11-06</td>\n",
       "      <td>2018-11-06</td>\n",
       "      <td>classic</td>\n",
       "      <td>R</td>\n",
       "      <td>Carol Devine Miller</td>\n",
       "      <td>55.70416</td>\n",
       "      <td>NaN</td>\n",
       "      <td>0.92634</td>\n",
       "      <td>1</td>\n",
       "    </tr>\n",
       "    <tr>\n",
       "      <th>18</th>\n",
       "      <td>2018</td>\n",
       "      <td>House</td>\n",
       "      <td>WV</td>\n",
       "      <td>2.0</td>\n",
       "      <td>False</td>\n",
       "      <td>2018-11-06</td>\n",
       "      <td>2018-11-06</td>\n",
       "      <td>classic</td>\n",
       "      <td>D</td>\n",
       "      <td>Talley Sergent</td>\n",
       "      <td>43.09996</td>\n",
       "      <td>NaN</td>\n",
       "      <td>0.06562</td>\n",
       "      <td>0</td>\n",
       "    </tr>\n",
       "  </tbody>\n",
       "</table>\n",
       "</div>"
      ],
      "text/plain": [
       "    year office state  district special election_date forecast_date  \\\n",
       "4   2018  House    WY       1.0   False    2018-11-06    2018-11-06   \n",
       "5   2018  House    WY       1.0   False    2018-11-06    2018-11-06   \n",
       "10  2018  House    WV       3.0   False    2018-11-06    2018-11-06   \n",
       "11  2018  House    WV       3.0   False    2018-11-06    2018-11-06   \n",
       "18  2018  House    WV       2.0   False    2018-11-06    2018-11-06   \n",
       "\n",
       "   forecast_type party            candidate  projected_voteshare  \\\n",
       "4        classic     D          Greg Hunter             31.33293   \n",
       "5        classic     R           Liz Cheney             63.15379   \n",
       "10       classic     D  Richard Neece Ojeda             44.29584   \n",
       "11       classic     R  Carol Devine Miller             55.70416   \n",
       "18       classic     D       Talley Sergent             43.09996   \n",
       "\n",
       "    actual_voteshare  probwin  probwin_outcome  \n",
       "4                NaN  0.00032                0  \n",
       "5                NaN  0.99968                1  \n",
       "10               NaN  0.07366                0  \n",
       "11               NaN  0.92634                1  \n",
       "18               NaN  0.06562                0  "
      ]
     },
     "execution_count": 6,
     "metadata": {},
     "output_type": "execute_result"
    }
   ],
   "source": [
    "\n",
    "# Filtering rows with classic\n",
    "classic_filter = election_data.forecast_type == \"classic\"\n",
    "# Subsetting just dates 8/11 and 11/6\n",
    "date_filter = (election_data.forecast_date == \"2018-11-06\") | (election_data.forecast_date == \"2018-08-11\")\n",
    "\n",
    "all_filters = date_filter & classic_filter\n",
    "\n",
    "election_sub = election_data[all_filters]\n",
    "\n",
    "# Boolean of which indexes are true and false\n",
    "election_sub['candidate']== 'Greg Hunter'\n",
    "\n",
    "# Using loc to selection candidate column and attributes rows with Greg Hunter\n",
    "election_sub.loc[election_sub['candidate']== 'Greg Hunter']\n",
    "\n",
    "\n",
    "election_sub.head()"
   ]
  },
  {
   "cell_type": "code",
   "execution_count": 7,
   "metadata": {
    "deletable": false,
    "editable": false
   },
   "outputs": [
    {
     "name": "stdout",
     "output_type": "stream",
     "text": [
      "~~~~~~~~~~~~~~~~~~~~~~~~~~~~~~~~~~~~~~~~~~~~~~~~~~~~~~~~~~~~~~~~~~~~~\n",
      "Running tests\n",
      "\n",
      "---------------------------------------------------------------------\n",
      "Test summary\n",
      "    Passed: 2\n",
      "    Failed: 0\n",
      "[ooooooooook] 100.0% passed\n",
      "\n"
     ]
    }
   ],
   "source": [
    "ok.grade(\"q1\");"
   ]
  },
  {
   "cell_type": "markdown",
   "metadata": {
    "deletable": false,
    "editable": false
   },
   "source": [
    "### Question 2\n",
    "\n",
    "We want to check whether events predicted by 538 to occur with probability _close to_ X% actually occured about X% of the time.  To do this, we have to define _close_.  First, we'll define the `cut_points` as 20 equally spaced numbers between 0 and 1 using `np.linspace`.  Then we'll group the predicted probabilities into the `19` equally spaced bins determined by those cut points.  Define the bin for each observation using the `pd.cut` function on the `probwin` variable.  We'll assign the result to a new column of `election_sub` called `bin`.\n",
    "\n",
    "<!--\n",
    "BEGIN QUESTION\n",
    "name: q2\n",
    "manual: false\n",
    "points: 2\n",
    "-->"
   ]
  },
  {
   "cell_type": "code",
   "execution_count": 1,
   "metadata": {
    "scrolled": true
   },
   "outputs": [
    {
     "ename": "NameError",
     "evalue": "name 'np' is not defined",
     "output_type": "error",
     "traceback": [
      "\u001b[0;31m---------------------------------------------------------------------------\u001b[0m",
      "\u001b[0;31mNameError\u001b[0m                                 Traceback (most recent call last)",
      "\u001b[0;32m<ipython-input-1-96a5c484d4d6>\u001b[0m in \u001b[0;36m<module>\u001b[0;34m\u001b[0m\n\u001b[1;32m      1\u001b[0m \u001b[0;31m# Array equally spaced\u001b[0m\u001b[0;34m\u001b[0m\u001b[0;34m\u001b[0m\u001b[0;34m\u001b[0m\u001b[0m\n\u001b[0;32m----> 2\u001b[0;31m \u001b[0mcut_points\u001b[0m \u001b[0;34m=\u001b[0m \u001b[0mnp\u001b[0m\u001b[0;34m.\u001b[0m\u001b[0mlinspace\u001b[0m\u001b[0;34m(\u001b[0m\u001b[0;36m0\u001b[0m\u001b[0;34m,\u001b[0m \u001b[0;36m1\u001b[0m\u001b[0;34m,\u001b[0m \u001b[0;36m20\u001b[0m\u001b[0;34m)\u001b[0m\u001b[0;34m\u001b[0m\u001b[0;34m\u001b[0m\u001b[0m\n\u001b[0m\u001b[1;32m      3\u001b[0m \u001b[0;34m\u001b[0m\u001b[0m\n\u001b[1;32m      4\u001b[0m \u001b[0;31m# Assigning bins to observations\u001b[0m\u001b[0;34m\u001b[0m\u001b[0;34m\u001b[0m\u001b[0;34m\u001b[0m\u001b[0m\n\u001b[1;32m      5\u001b[0m \u001b[0melection_sub\u001b[0m\u001b[0;34m[\u001b[0m\u001b[0;34m'bin'\u001b[0m\u001b[0;34m]\u001b[0m\u001b[0;34m=\u001b[0m \u001b[0mpd\u001b[0m\u001b[0;34m.\u001b[0m\u001b[0mcut\u001b[0m\u001b[0;34m(\u001b[0m\u001b[0melection_sub\u001b[0m\u001b[0;34m[\u001b[0m\u001b[0;34m'probwin'\u001b[0m\u001b[0;34m]\u001b[0m\u001b[0;34m,\u001b[0m \u001b[0mcut_points\u001b[0m\u001b[0;34m)\u001b[0m\u001b[0;34m\u001b[0m\u001b[0;34m\u001b[0m\u001b[0m\n",
      "\u001b[0;31mNameError\u001b[0m: name 'np' is not defined"
     ]
    }
   ],
   "source": [
    "# Array equally spaced\n",
    "cut_points = np.linspace(0, 1, 20)\n",
    "\n",
    "# Assigning bins to observations\n",
    "election_sub['bin']= pd.cut(election_sub['probwin'], cut_points)\n",
    "election_sub[np.array(['probwin','bin'])]\n",
    "\n"
   ]
  },
  {
   "cell_type": "code",
   "execution_count": 9,
   "metadata": {},
   "outputs": [
    {
     "data": {
      "text/plain": [
       "array([0.        , 0.05263158, 0.10526316, 0.15789474, 0.21052632,\n",
       "       0.26315789, 0.31578947, 0.36842105, 0.42105263, 0.47368421,\n",
       "       0.52631579, 0.57894737, 0.63157895, 0.68421053, 0.73684211,\n",
       "       0.78947368, 0.84210526, 0.89473684, 0.94736842, 1.        ])"
      ]
     },
     "execution_count": 9,
     "metadata": {},
     "output_type": "execute_result"
    }
   ],
   "source": [
    "cut_points"
   ]
  },
  {
   "cell_type": "code",
   "execution_count": 10,
   "metadata": {
    "deletable": false,
    "editable": false
   },
   "outputs": [
    {
     "name": "stdout",
     "output_type": "stream",
     "text": [
      "~~~~~~~~~~~~~~~~~~~~~~~~~~~~~~~~~~~~~~~~~~~~~~~~~~~~~~~~~~~~~~~~~~~~~\n",
      "Running tests\n",
      "\n",
      "---------------------------------------------------------------------\n",
      "Test summary\n",
      "    Passed: 1\n",
      "    Failed: 0\n",
      "[ooooooooook] 100.0% passed\n",
      "\n"
     ]
    }
   ],
   "source": [
    "ok.grade(\"q2\");"
   ]
  },
  {
   "cell_type": "markdown",
   "metadata": {
    "deletable": false,
    "editable": false
   },
   "source": [
    "### Question 3\n",
    "\n",
    "<!--\n",
    "BEGIN QUESTION\n",
    "name: q3\n",
    "manual: false\n",
    "points: 2\n",
    "-->\n",
    "\n",
    "Now we've grouped the observations into a discrete set of bins according to the predicted probability, `probwin`.  Within each bin, we now want to compute the actual fraction of times the candidates won. If 538 did a good job, it will be close to the predited probabilities.   You'll need to use the `groupby` function to compute the mean of `probwin_outcome` (1 is a win and 0 is a loss) within each bin.  Save the fraction of actual wins in each bin in a list called `fraction_outcome`."
   ]
  },
  {
   "cell_type": "code",
   "execution_count": 11,
   "metadata": {},
   "outputs": [
    {
     "data": {
      "text/plain": [
       "bin\n",
       "(0.0, 0.0526]      0.001715\n",
       "(0.0526, 0.105]    0.062500\n",
       "(0.105, 0.158]     0.023256\n",
       "(0.158, 0.211]     0.142857\n",
       "(0.211, 0.263]     0.200000\n",
       "(0.263, 0.316]     0.058824\n",
       "(0.316, 0.368]     0.235294\n",
       "(0.368, 0.421]     0.272727\n",
       "(0.421, 0.474]     0.466667\n",
       "(0.474, 0.526]     0.500000\n",
       "(0.526, 0.579]     0.533333\n",
       "(0.579, 0.632]     0.727273\n",
       "(0.632, 0.684]     0.764706\n",
       "(0.684, 0.737]     0.941176\n",
       "(0.737, 0.789]     0.800000\n",
       "(0.789, 0.842]     0.857143\n",
       "(0.842, 0.895]     0.976744\n",
       "(0.895, 0.947]     0.937500\n",
       "(0.947, 1.0]       0.998478\n",
       "Name: probwin_outcome, dtype: float64"
      ]
     },
     "execution_count": 11,
     "metadata": {},
     "output_type": "execute_result"
    }
   ],
   "source": [
    "# each bin grouped\n",
    "fraction_outcome = election_sub.groupby('bin')['probwin_outcome'].mean()\n",
    "fraction_outcome\n"
   ]
  },
  {
   "cell_type": "code",
   "execution_count": 12,
   "metadata": {
    "deletable": false,
    "editable": false
   },
   "outputs": [
    {
     "name": "stdout",
     "output_type": "stream",
     "text": [
      "~~~~~~~~~~~~~~~~~~~~~~~~~~~~~~~~~~~~~~~~~~~~~~~~~~~~~~~~~~~~~~~~~~~~~\n",
      "Running tests\n",
      "\n",
      "---------------------------------------------------------------------\n",
      "Test summary\n",
      "    Passed: 2\n",
      "    Failed: 0\n",
      "[ooooooooook] 100.0% passed\n",
      "\n"
     ]
    }
   ],
   "source": [
    "ok.grade(\"q3\");"
   ]
  },
  {
   "cell_type": "markdown",
   "metadata": {
    "deletable": false,
    "editable": false
   },
   "source": [
    "### Question 4\n",
    "\n",
    "<!--\n",
    "BEGIN QUESTION\n",
    "name: q4a\n",
    "manual: false\n",
    "points: 2\n",
    "-->\n",
    "\n",
    "For this problem we'll make a plot of the predicted probabilities and actual fraction of wins in each bin.  We've already computed the actual fraction of wins; all that remains is to plot it against the predicted value assocaited with each bin.  For the predicted value in each bin, we'll use the midpoint of the bin.  Compute the midpoints of each bin from `cut_points`."
   ]
  },
  {
   "cell_type": "code",
   "execution_count": 13,
   "metadata": {},
   "outputs": [
    {
     "data": {
      "text/plain": [
       "[0.02631578947368421,\n",
       " 0.07894736842105263,\n",
       " 0.13157894736842105,\n",
       " 0.18421052631578946,\n",
       " 0.23684210526315788,\n",
       " 0.2894736842105263,\n",
       " 0.3421052631578947,\n",
       " 0.39473684210526316,\n",
       " 0.4473684210526315,\n",
       " 0.5,\n",
       " 0.5526315789473684,\n",
       " 0.6052631578947368,\n",
       " 0.6578947368421052,\n",
       " 0.7105263157894737,\n",
       " 0.763157894736842,\n",
       " 0.8157894736842105,\n",
       " 0.8684210526315789,\n",
       " 0.9210526315789473,\n",
       " 0.9736842105263157]"
      ]
     },
     "execution_count": 13,
     "metadata": {},
     "output_type": "execute_result"
    }
   ],
   "source": [
    "midpoints = (cut_points[1:] + cut_points[:-1]) /2\n",
    "list(midpoints)\n"
   ]
  },
  {
   "cell_type": "code",
   "execution_count": 14,
   "metadata": {
    "deletable": false,
    "editable": false
   },
   "outputs": [
    {
     "name": "stdout",
     "output_type": "stream",
     "text": [
      "~~~~~~~~~~~~~~~~~~~~~~~~~~~~~~~~~~~~~~~~~~~~~~~~~~~~~~~~~~~~~~~~~~~~~\n",
      "Running tests\n",
      "\n",
      "---------------------------------------------------------------------\n",
      "Test summary\n",
      "    Passed: 2\n",
      "    Failed: 0\n",
      "[ooooooooook] 100.0% passed\n",
      "\n"
     ]
    }
   ],
   "source": [
    "ok.grade(\"q4a\");"
   ]
  },
  {
   "cell_type": "markdown",
   "metadata": {
    "deletable": false,
    "editable": false
   },
   "source": [
    "Now make a scatterplot using `midpoints` as the x variable and `fraction_outcome` as the y variable.  Draw a dashed line from `[0,0]` to `[1,1]` to mark the line y=x.  \n",
    "\n",
    "<!--\n",
    "BEGIN QUESTION\n",
    "name: q4b\n",
    "manual: true \n",
    "points: 2\n",
    "-->\n",
    "<!-- EXPORT TO PDF -->"
   ]
  },
  {
   "cell_type": "code",
   "execution_count": 15,
   "metadata": {},
   "outputs": [
    {
     "data": {
      "image/png": "[encoded data removed]",
      "text/plain": [
       "<Figure size 432x288 with 1 Axes>"
      ]
     },
     "metadata": {
      "needs_background": "light"
     },
     "output_type": "display_data"
    }
   ],
   "source": [
    "%matplotlib inline\n",
    "import matplotlib.pyplot as plt\n",
    "\n",
    "# scatterplot\n",
    "x = midpoints\n",
    "y = np.asarray(fraction_outcome)\n",
    "plt.scatter(x,y, color = 'red')\n",
    "\n",
    "# drawing a dashed line\n",
    "xx= [0,1]\n",
    "plt.plot(xx, color = 'red', linestyle='--' )\n",
    "\n",
    "plt.title('Predicted Probabilities vs Actual Fraction')\n",
    "plt.xlabel('Mid Points')\n",
    "plt.ylabel('Fraction Outcome')\n",
    "\n",
    "plt.show()\n",
    "\n",
    "\n",
    "\n",
    "\n"
   ]
  },
  {
   "cell_type": "markdown",
   "metadata": {
    "deletable": false,
    "editable": false
   },
   "source": [
    "### Question 5: adding error bars\n",
    "\n",
    "If you did things correctly, it should look like fivethirtyeight has done \"pretty\" well with their forecasts: the actual fraction of wins tracks closely with the predicted number.  But how do we decide what's \"good enough\"? Consider this example: I correctly predict that a coin is fair (e.g. that it has a 50% chance of heads, 50% chance of tails).  But if I flip it 100 times, I can be pretty sure it won't come up heads exactly 50 times.  The fact that it didn't come up heads exactly 50 times doesn't make my prediction incorrect.\n",
    "\n",
    "To assess how reasonable the predictions are, I need to quantify the uncertainty in my estimate.  It's reasonable to assume that within each bin, $k$, the observed number of wins, $Y_k \\sim Bin(n_k, p_k)$, where $n_k$ is the number of elections and $p_k$ is the predicted win probability in bin $k$.\n",
    "\n",
    "Classical results tell us that the obseved fraction of wins in bin $k$, $\\hat p = \\frac{Y_k}{n_k}$ has variance Var$\\left(\\hat p_k\\right) = \\frac{p_k (1-p_k)}{n_k} \\approx \\frac{\\hat p_k(1- \\hat p_k)}{n_k}$.  The standard deviation of the Binomial proportion then is $\\hat \\sigma_k \\approx \\sqrt{\\frac{\\hat p_k(1- \\hat p_k)}{n_k}}$.  \n",
    "\n",
    "If we use the [normal approximation to generate a confidence interval](https://en.wikipedia.org/wiki/Binomial_proportion_confidence_interval#Normal_approximation_interval), then the 95% interval has the form $\\hat p_k \\pm 1.96 \\hat \\sigma_k$.\n",
    "\n",
    "Create a new \"aggregated\" dataframe.  This time, group `election_sub` by the `bin` and compute both the average of the `probwin_outcome` (`mean`) and the number of observations in each bin (`count`) using the `agg` function.  Call this new data frame, `election_agg`.\n",
    "\n",
    "<!--\n",
    "BEGIN QUESTION\n",
    "name: q5a\n",
    "manual: true\n",
    "points: 2\n",
    "-->\n",
    "<!-- EXPORT TO PDF -->"
   ]
  },
  {
   "cell_type": "code",
   "execution_count": 16,
   "metadata": {},
   "outputs": [
    {
     "data": {
      "text/html": [
       "<div>\n",
       "<style scoped>\n",
       "    .dataframe tbody tr th:only-of-type {\n",
       "        vertical-align: middle;\n",
       "    }\n",
       "\n",
       "    .dataframe tbody tr th {\n",
       "        vertical-align: top;\n",
       "    }\n",
       "\n",
       "    .dataframe thead tr th {\n",
       "        text-align: left;\n",
       "    }\n",
       "\n",
       "    .dataframe thead tr:last-of-type th {\n",
       "        text-align: right;\n",
       "    }\n",
       "</style>\n",
       "<table border=\"1\" class=\"dataframe\">\n",
       "  <thead>\n",
       "    <tr>\n",
       "      <th></th>\n",
       "      <th colspan=\"2\" halign=\"left\">probwin_outcome</th>\n",
       "    </tr>\n",
       "    <tr>\n",
       "      <th></th>\n",
       "      <th>mean</th>\n",
       "      <th>count</th>\n",
       "    </tr>\n",
       "    <tr>\n",
       "      <th>bin</th>\n",
       "      <th></th>\n",
       "      <th></th>\n",
       "    </tr>\n",
       "  </thead>\n",
       "  <tbody>\n",
       "    <tr>\n",
       "      <th>(0.0, 0.0526]</th>\n",
       "      <td>0.001715</td>\n",
       "      <td>583</td>\n",
       "    </tr>\n",
       "    <tr>\n",
       "      <th>(0.0526, 0.105]</th>\n",
       "      <td>0.062500</td>\n",
       "      <td>32</td>\n",
       "    </tr>\n",
       "    <tr>\n",
       "      <th>(0.105, 0.158]</th>\n",
       "      <td>0.023256</td>\n",
       "      <td>43</td>\n",
       "    </tr>\n",
       "    <tr>\n",
       "      <th>(0.158, 0.211]</th>\n",
       "      <td>0.142857</td>\n",
       "      <td>28</td>\n",
       "    </tr>\n",
       "    <tr>\n",
       "      <th>(0.211, 0.263]</th>\n",
       "      <td>0.200000</td>\n",
       "      <td>30</td>\n",
       "    </tr>\n",
       "    <tr>\n",
       "      <th>(0.263, 0.316]</th>\n",
       "      <td>0.058824</td>\n",
       "      <td>17</td>\n",
       "    </tr>\n",
       "    <tr>\n",
       "      <th>(0.316, 0.368]</th>\n",
       "      <td>0.235294</td>\n",
       "      <td>17</td>\n",
       "    </tr>\n",
       "    <tr>\n",
       "      <th>(0.368, 0.421]</th>\n",
       "      <td>0.272727</td>\n",
       "      <td>22</td>\n",
       "    </tr>\n",
       "    <tr>\n",
       "      <th>(0.421, 0.474]</th>\n",
       "      <td>0.466667</td>\n",
       "      <td>15</td>\n",
       "    </tr>\n",
       "    <tr>\n",
       "      <th>(0.474, 0.526]</th>\n",
       "      <td>0.500000</td>\n",
       "      <td>16</td>\n",
       "    </tr>\n",
       "    <tr>\n",
       "      <th>(0.526, 0.579]</th>\n",
       "      <td>0.533333</td>\n",
       "      <td>15</td>\n",
       "    </tr>\n",
       "    <tr>\n",
       "      <th>(0.579, 0.632]</th>\n",
       "      <td>0.727273</td>\n",
       "      <td>22</td>\n",
       "    </tr>\n",
       "    <tr>\n",
       "      <th>(0.632, 0.684]</th>\n",
       "      <td>0.764706</td>\n",
       "      <td>17</td>\n",
       "    </tr>\n",
       "    <tr>\n",
       "      <th>(0.684, 0.737]</th>\n",
       "      <td>0.941176</td>\n",
       "      <td>17</td>\n",
       "    </tr>\n",
       "    <tr>\n",
       "      <th>(0.737, 0.789]</th>\n",
       "      <td>0.800000</td>\n",
       "      <td>30</td>\n",
       "    </tr>\n",
       "    <tr>\n",
       "      <th>(0.789, 0.842]</th>\n",
       "      <td>0.857143</td>\n",
       "      <td>28</td>\n",
       "    </tr>\n",
       "    <tr>\n",
       "      <th>(0.842, 0.895]</th>\n",
       "      <td>0.976744</td>\n",
       "      <td>43</td>\n",
       "    </tr>\n",
       "    <tr>\n",
       "      <th>(0.895, 0.947]</th>\n",
       "      <td>0.937500</td>\n",
       "      <td>32</td>\n",
       "    </tr>\n",
       "    <tr>\n",
       "      <th>(0.947, 1.0]</th>\n",
       "      <td>0.998478</td>\n",
       "      <td>657</td>\n",
       "    </tr>\n",
       "  </tbody>\n",
       "</table>\n",
       "</div>"
      ],
      "text/plain": [
       "                probwin_outcome      \n",
       "                           mean count\n",
       "bin                                  \n",
       "(0.0, 0.0526]          0.001715   583\n",
       "(0.0526, 0.105]        0.062500    32\n",
       "(0.105, 0.158]         0.023256    43\n",
       "(0.158, 0.211]         0.142857    28\n",
       "(0.211, 0.263]         0.200000    30\n",
       "(0.263, 0.316]         0.058824    17\n",
       "(0.316, 0.368]         0.235294    17\n",
       "(0.368, 0.421]         0.272727    22\n",
       "(0.421, 0.474]         0.466667    15\n",
       "(0.474, 0.526]         0.500000    16\n",
       "(0.526, 0.579]         0.533333    15\n",
       "(0.579, 0.632]         0.727273    22\n",
       "(0.632, 0.684]         0.764706    17\n",
       "(0.684, 0.737]         0.941176    17\n",
       "(0.737, 0.789]         0.800000    30\n",
       "(0.789, 0.842]         0.857143    28\n",
       "(0.842, 0.895]         0.976744    43\n",
       "(0.895, 0.947]         0.937500    32\n",
       "(0.947, 1.0]           0.998478   657"
      ]
     },
     "execution_count": 16,
     "metadata": {},
     "output_type": "execute_result"
    }
   ],
   "source": [
    "\n",
    "election_agg = election_sub.groupby('bin').agg({'probwin_outcome' : ['mean','count']})\n",
    "election_agg \n"
   ]
  },
  {
   "cell_type": "markdown",
   "metadata": {
    "deletable": false,
    "editable": false
   },
   "source": [
    "Use the `mean` and `count` columns of `election_agg` to create a new column of `election_agg` titled `err`, which stores $1.96 \\times \\hat \\sigma_k$ in each bin $k$.\n",
    "\n",
    "<!--\n",
    "BEGIN QUESTION\n",
    "name: q5b\n",
    "manual: true\n",
    "points: 2\n",
    "-->\n",
    "<!-- EXPORT TO PDF -->"
   ]
  },
  {
   "cell_type": "code",
   "execution_count": 17,
   "metadata": {},
   "outputs": [
    {
     "data": {
      "text/html": [
       "<div>\n",
       "<style scoped>\n",
       "    .dataframe tbody tr th:only-of-type {\n",
       "        vertical-align: middle;\n",
       "    }\n",
       "\n",
       "    .dataframe tbody tr th {\n",
       "        vertical-align: top;\n",
       "    }\n",
       "\n",
       "    .dataframe thead th {\n",
       "        text-align: right;\n",
       "    }\n",
       "</style>\n",
       "<table border=\"1\" class=\"dataframe\">\n",
       "  <thead>\n",
       "    <tr style=\"text-align: right;\">\n",
       "      <th></th>\n",
       "      <th>mean</th>\n",
       "      <th>count</th>\n",
       "      <th>err</th>\n",
       "    </tr>\n",
       "    <tr>\n",
       "      <th>bin</th>\n",
       "      <th></th>\n",
       "      <th></th>\n",
       "      <th></th>\n",
       "    </tr>\n",
       "  </thead>\n",
       "  <tbody>\n",
       "    <tr>\n",
       "      <th>(0.0, 0.0526]</th>\n",
       "      <td>0.001715</td>\n",
       "      <td>583</td>\n",
       "      <td>0.003359</td>\n",
       "    </tr>\n",
       "    <tr>\n",
       "      <th>(0.0526, 0.105]</th>\n",
       "      <td>0.062500</td>\n",
       "      <td>32</td>\n",
       "      <td>0.083870</td>\n",
       "    </tr>\n",
       "    <tr>\n",
       "      <th>(0.105, 0.158]</th>\n",
       "      <td>0.023256</td>\n",
       "      <td>43</td>\n",
       "      <td>0.045048</td>\n",
       "    </tr>\n",
       "    <tr>\n",
       "      <th>(0.158, 0.211]</th>\n",
       "      <td>0.142857</td>\n",
       "      <td>28</td>\n",
       "      <td>0.129615</td>\n",
       "    </tr>\n",
       "    <tr>\n",
       "      <th>(0.211, 0.263]</th>\n",
       "      <td>0.200000</td>\n",
       "      <td>30</td>\n",
       "      <td>0.143138</td>\n",
       "    </tr>\n",
       "    <tr>\n",
       "      <th>(0.263, 0.316]</th>\n",
       "      <td>0.058824</td>\n",
       "      <td>17</td>\n",
       "      <td>0.111852</td>\n",
       "    </tr>\n",
       "    <tr>\n",
       "      <th>(0.316, 0.368]</th>\n",
       "      <td>0.235294</td>\n",
       "      <td>17</td>\n",
       "      <td>0.201644</td>\n",
       "    </tr>\n",
       "    <tr>\n",
       "      <th>(0.368, 0.421]</th>\n",
       "      <td>0.272727</td>\n",
       "      <td>22</td>\n",
       "      <td>0.186105</td>\n",
       "    </tr>\n",
       "    <tr>\n",
       "      <th>(0.421, 0.474]</th>\n",
       "      <td>0.466667</td>\n",
       "      <td>15</td>\n",
       "      <td>0.252472</td>\n",
       "    </tr>\n",
       "    <tr>\n",
       "      <th>(0.474, 0.526]</th>\n",
       "      <td>0.500000</td>\n",
       "      <td>16</td>\n",
       "      <td>0.245000</td>\n",
       "    </tr>\n",
       "    <tr>\n",
       "      <th>(0.526, 0.579]</th>\n",
       "      <td>0.533333</td>\n",
       "      <td>15</td>\n",
       "      <td>0.252472</td>\n",
       "    </tr>\n",
       "    <tr>\n",
       "      <th>(0.579, 0.632]</th>\n",
       "      <td>0.727273</td>\n",
       "      <td>22</td>\n",
       "      <td>0.186105</td>\n",
       "    </tr>\n",
       "    <tr>\n",
       "      <th>(0.632, 0.684]</th>\n",
       "      <td>0.764706</td>\n",
       "      <td>17</td>\n",
       "      <td>0.201644</td>\n",
       "    </tr>\n",
       "    <tr>\n",
       "      <th>(0.684, 0.737]</th>\n",
       "      <td>0.941176</td>\n",
       "      <td>17</td>\n",
       "      <td>0.111852</td>\n",
       "    </tr>\n",
       "    <tr>\n",
       "      <th>(0.737, 0.789]</th>\n",
       "      <td>0.800000</td>\n",
       "      <td>30</td>\n",
       "      <td>0.143138</td>\n",
       "    </tr>\n",
       "    <tr>\n",
       "      <th>(0.789, 0.842]</th>\n",
       "      <td>0.857143</td>\n",
       "      <td>28</td>\n",
       "      <td>0.129615</td>\n",
       "    </tr>\n",
       "    <tr>\n",
       "      <th>(0.842, 0.895]</th>\n",
       "      <td>0.976744</td>\n",
       "      <td>43</td>\n",
       "      <td>0.045048</td>\n",
       "    </tr>\n",
       "    <tr>\n",
       "      <th>(0.895, 0.947]</th>\n",
       "      <td>0.937500</td>\n",
       "      <td>32</td>\n",
       "      <td>0.083870</td>\n",
       "    </tr>\n",
       "    <tr>\n",
       "      <th>(0.947, 1.0]</th>\n",
       "      <td>0.998478</td>\n",
       "      <td>657</td>\n",
       "      <td>0.002981</td>\n",
       "    </tr>\n",
       "  </tbody>\n",
       "</table>\n",
       "</div>"
      ],
      "text/plain": [
       "                     mean  count       err\n",
       "bin                                       \n",
       "(0.0, 0.0526]    0.001715    583  0.003359\n",
       "(0.0526, 0.105]  0.062500     32  0.083870\n",
       "(0.105, 0.158]   0.023256     43  0.045048\n",
       "(0.158, 0.211]   0.142857     28  0.129615\n",
       "(0.211, 0.263]   0.200000     30  0.143138\n",
       "(0.263, 0.316]   0.058824     17  0.111852\n",
       "(0.316, 0.368]   0.235294     17  0.201644\n",
       "(0.368, 0.421]   0.272727     22  0.186105\n",
       "(0.421, 0.474]   0.466667     15  0.252472\n",
       "(0.474, 0.526]   0.500000     16  0.245000\n",
       "(0.526, 0.579]   0.533333     15  0.252472\n",
       "(0.579, 0.632]   0.727273     22  0.186105\n",
       "(0.632, 0.684]   0.764706     17  0.201644\n",
       "(0.684, 0.737]   0.941176     17  0.111852\n",
       "(0.737, 0.789]   0.800000     30  0.143138\n",
       "(0.789, 0.842]   0.857143     28  0.129615\n",
       "(0.842, 0.895]   0.976744     43  0.045048\n",
       "(0.895, 0.947]   0.937500     32  0.083870\n",
       "(0.947, 1.0]     0.998478    657  0.002981"
      ]
     },
     "execution_count": 17,
     "metadata": {},
     "output_type": "execute_result"
    }
   ],
   "source": [
    "# Using mean and count, to calculate variance for each bin\n",
    "election_agg = election_agg.assign(err = lambda x : 1.96* np.sqrt((x.iloc[:,0] *  (1- x.iloc[:,0]))/ x.iloc[:,1]))\n",
    "election_agg.columns = ['mean', 'count', 'err']\n",
    "election_agg\n",
    "\n"
   ]
  },
  {
   "cell_type": "markdown",
   "metadata": {},
   "source": [
    "Use `plt.errorbar` to create a new plot with error bars associated with the actual fraction of wins in each bin.  Again add a dashed y=x line.  Set the argument `fmt='.'` to create a scatterplot with errorbars."
   ]
  },
  {
   "cell_type": "code",
   "execution_count": 18,
   "metadata": {
    "scrolled": true
   },
   "outputs": [
    {
     "data": {
      "image/png": "[encoded data removed]",
      "text/plain": [
       "<Figure size 432x288 with 1 Axes>"
      ]
     },
     "metadata": {
      "needs_background": "light"
     },
     "output_type": "display_data"
    }
   ],
   "source": [
    "plt.errorbar(midpoints, election_agg['mean'].values, yerr=election_agg['err'].values, fmt='.')\n",
    "plt.plot([0, 1], [0, 1], '--')\n",
    "\n",
    "\n",
    "plt.title('Predicted Probabilities vs Actual Fraction with CI')\n",
    "plt.xlabel('Mid Points')\n",
    "plt.ylabel('Fraction Outcome')\n",
    "\n",
    "plt.show()\n"
   ]
  },
  {
   "cell_type": "markdown",
   "metadata": {
    "deletable": false,
    "editable": false
   },
   "source": [
    "### Question 6: computing the coverage\n",
    "\n",
    "If our intervals were true 95% confidence intervals, then we would expect about 95% of them to cover the midpoint of the bin (i.e. overlap with the y=x line).  What fraction of the 95% confidence intervals cover the bin midpoint?  Create a list called `upper` to be the `mean` + `err` and another `lower` to be `mean` - `err`.  Next, compute `frac_covering` as the fraction of midpoints between `lower` and `upper`. \n",
    "\n",
    "<!--\n",
    "BEGIN QUESTION\n",
    "name: q6\n",
    "manual: false\n",
    "points: 2\n",
    "-->"
   ]
  },
  {
   "cell_type": "code",
   "execution_count": 42,
   "metadata": {
    "scrolled": true
   },
   "outputs": [
    {
     "data": {
      "text/plain": [
       "0.6842105263157895"
      ]
     },
     "execution_count": 42,
     "metadata": {},
     "output_type": "execute_result"
    }
   ],
   "source": [
    "\n",
    "upper = (election_agg['mean'] + election_agg['err'])\n",
    "lower = (election_agg['mean']-  election_agg['err'])\n",
    "frac_covering = 13/len(upper)\n",
    "\n",
    "frac_covering"
   ]
  },
  {
   "cell_type": "code",
   "execution_count": 43,
   "metadata": {
    "deletable": false,
    "editable": false
   },
   "outputs": [
    {
     "name": "stdout",
     "output_type": "stream",
     "text": [
      "~~~~~~~~~~~~~~~~~~~~~~~~~~~~~~~~~~~~~~~~~~~~~~~~~~~~~~~~~~~~~~~~~~~~~\n",
      "Running tests\n",
      "\n",
      "---------------------------------------------------------------------\n",
      "Test summary\n",
      "    Passed: 4\n",
      "    Failed: 0\n",
      "[ooooooooook] 100.0% passed\n",
      "\n"
     ]
    }
   ],
   "source": [
    "ok.grade(\"q6\");"
   ]
  },
  {
   "cell_type": "markdown",
   "metadata": {
    "deletable": false,
    "editable": false
   },
   "source": [
    "### Question 7: understanding confidence intervals\n",
    "\n",
    "<!--\n",
    "BEGIN QUESTION\n",
    "name: q7\n",
    "manual: true\n",
    "points: 2\n",
    "-->\n",
    "\n",
    "Are the 95% confidence intervals generally larger or smaller for more confident predictions (e.g. the predictions closer to 0 or 1).  What are the factors that determine the length of the confidence intervals?\n",
    "<!-- EXPORT TO PDF -->"
   ]
  },
  {
   "cell_type": "markdown",
   "metadata": {},
   "source": [
    "The 95% confidence intervals are generally smaller for predictions that are closer to 0 or 1. The factors that determine the lengh of confidence intervals is the number of observations in each, and the probability of each individual outcome occuring. We see that in bins with a greater amount of observations have smaller confidence intervals. In the formula $\\hat \\sigma_k \\approx \\sqrt{\\frac{\\hat p_k(1- \\hat p_k)}{n_k}}$, mathematically as count gets higher the variance gets lower. Generally,  we are more \"confident\" in our predictions when there is a larger amount of trials/sample size hence the smaller confidence bands."
   ]
  },
  {
   "cell_type": "markdown",
   "metadata": {},
   "source": [
    "### Question 8: finding the candidate that had the biggest change in support\n",
    "\n",
    "Let's see if we can find the candidate that seemed to improve their standing the most between  August 11 and November 6.  First, fill in the function `abs_diff`, which takes in a pandas data frame and computes the difference between the largest values of `probwin` and the smallest value.  "
   ]
  },
  {
   "cell_type": "markdown",
   "metadata": {
    "deletable": false,
    "editable": false
   },
   "source": [
    "<!--\n",
    "BEGIN QUESTION\n",
    "name: q8a\n",
    "manual: true\n",
    "points: 2\n",
    "-->\n",
    "<!-- EXPORT TO PDF -->"
   ]
  },
  {
   "cell_type": "code",
   "execution_count": 21,
   "metadata": {},
   "outputs": [],
   "source": [
    "# Input: a pandas dataframe with a numeric column named `probwin`\n",
    "# Output: a pandas dataframe with the same columns, with an additional column named `absdiff`\n",
    "\n",
    "def abs_diff(x):\n",
    "    x['absdiff'] = x['probwin'].max() - x['probwin'].min()\n",
    "    return x\n"
   ]
  },
  {
   "cell_type": "markdown",
   "metadata": {
    "deletable": false,
    "editable": false
   },
   "source": [
    "We can use this function to compute the difference between the maximum and minimum predicted with probabilities for every candidate.  To do so, group `election_sub` by `candidate` and `apply` the function `abs_diff`.  Find the index of the largest difference in `diff_dataframe` and store it in `max_idx`.  Do this using `np.nanargmax` function.  This function finds the _index_ of the largest value, ignoring any missing values (`nans`). \n",
    "\n",
    "<!--\n",
    "BEGIN QUESTION\n",
    "name: q8b\n",
    "manual: true\n",
    "points: 2\n",
    "-->\n",
    "<!-- EXPORT TO PDF -->"
   ]
  },
  {
   "cell_type": "code",
   "execution_count": 22,
   "metadata": {},
   "outputs": [
    {
     "data": {
      "text/plain": [
       "628"
      ]
     },
     "execution_count": 22,
     "metadata": {},
     "output_type": "execute_result"
    }
   ],
   "source": [
    "# Group candidates then apply abs diff function\n",
    "diff_dataframe = election_sub.groupby(['candidate']).apply(abs_diff)\n",
    "diff_dataframe\n",
    "\n",
    "# find index of largest value in column absdiff\n",
    "max_idx = np.nanargmax(diff_dataframe.absdiff)\n",
    "max_idx"
   ]
  },
  {
   "cell_type": "markdown",
   "metadata": {
    "deletable": false,
    "editable": false
   },
   "source": [
    "<!--\n",
    "BEGIN QUESTION\n",
    "name: q8c\n",
    "manual: false\n",
    "points: 2\n",
    "-->"
   ]
  },
  {
   "cell_type": "code",
   "execution_count": 50,
   "metadata": {},
   "outputs": [
    {
     "data": {
      "text/plain": [
       "'Sharice Davids'"
      ]
     },
     "execution_count": 50,
     "metadata": {},
     "output_type": "execute_result"
    }
   ],
   "source": [
    "# Using iloc to select position based index from row MAX_IDX and column 9 (Candidate name)\n",
    "candidate = diff_dataframe.iloc[max_idx,9]\n",
    "candidate\n"
   ]
  },
  {
   "cell_type": "code",
   "execution_count": 24,
   "metadata": {
    "deletable": false,
    "editable": false
   },
   "outputs": [
    {
     "name": "stdout",
     "output_type": "stream",
     "text": [
      "~~~~~~~~~~~~~~~~~~~~~~~~~~~~~~~~~~~~~~~~~~~~~~~~~~~~~~~~~~~~~~~~~~~~~\n",
      "Running tests\n",
      "\n",
      "---------------------------------------------------------------------\n",
      "Test summary\n",
      "    Passed: 1\n",
      "    Failed: 0\n",
      "[ooooooooook] 100.0% passed\n",
      "\n"
     ]
    }
   ],
   "source": [
    "ok.grade(\"q8c\");"
   ]
  },
  {
   "cell_type": "code",
   "execution_count": 51,
   "metadata": {},
   "outputs": [
    {
     "data": {
      "text/plain": [
       "year                             2018\n",
       "office                          House\n",
       "state                              KS\n",
       "district                            3\n",
       "special                         False\n",
       "election_date              2018-11-06\n",
       "forecast_date              2018-11-06\n",
       "forecast_type                 classic\n",
       "party                               D\n",
       "candidate              Sharice Davids\n",
       "projected_voteshare           51.8511\n",
       "actual_voteshare                  NaN\n",
       "probwin                       0.84994\n",
       "probwin_outcome                     1\n",
       "Name: 1890, dtype: object"
      ]
     },
     "execution_count": 51,
     "metadata": {},
     "output_type": "execute_result"
    }
   ],
   "source": [
    "all_election.iloc[max_idx]"
   ]
  },
  {
   "cell_type": "markdown",
   "metadata": {
    "deletable": false,
    "editable": false
   },
   "source": [
    "Did the candidate win or lose the election?\n",
    "<!--\n",
    "BEGIN QUESTION\n",
    "name: q8d\n",
    "manual: true\n",
    "points: 2\n",
    "-->\n",
    "<!-- EXPORT TO PDF -->"
   ]
  },
  {
   "cell_type": "markdown",
   "metadata": {},
   "source": [
    "Sharice Davids won the election in her district."
   ]
  },
  {
   "cell_type": "markdown",
   "metadata": {},
   "source": [
    "### Question 9: plot predictions over time"
   ]
  },
  {
   "cell_type": "markdown",
   "metadata": {
    "deletable": false,
    "editable": false
   },
   "source": [
    "Plot the forecasted win probability for the candidate you found above, for every available date.  For this you'll need to return to working with the full `election_data`, not `election_sub`.  Don't forget, you should still filter to `classic` forecasts only.  First, create an array of `predicted_probs` for the candidate at every date.  Also save the date in an array called `forecast_date`.  When creating `forecast_date`, use `pd.to_datetime` to convert a `str` datatype to the date format that can easily be plotted.\n",
    "\n",
    "<!--\n",
    "BEGIN QUESTION\n",
    "name: q9a\n",
    "manual: false\n",
    "points: 2\n",
    "-->"
   ]
  },
  {
   "cell_type": "code",
   "execution_count": 25,
   "metadata": {},
   "outputs": [],
   "source": [
    "election_data.head()\n",
    "\n",
    "# Filtering classic from column forecast type\n",
    "all_election = election_data.query('forecast_type == \"classic\"')\n",
    "all_election.head()\n",
    "\n",
    "# Using loc to select rows with Sharice Davids\n",
    "# inside loc selects column candidate and assigns boolean result to where Sharice Davids is\n",
    "sharice_d = all_election.loc[all_election['candidate']== 'Sharice Davids']\n",
    "\n",
    "\n",
    "\n"
   ]
  },
  {
   "cell_type": "code",
   "execution_count": 26,
   "metadata": {},
   "outputs": [
    {
     "data": {
      "text/plain": [
       "1890    2018-11-06\n",
       "4791    2018-11-05\n",
       "7692    2018-11-04\n",
       "10593   2018-11-03\n",
       "13482   2018-11-02\n",
       "Name: forecast_date, dtype: datetime64[ns]"
      ]
     },
     "execution_count": 26,
     "metadata": {},
     "output_type": "execute_result"
    }
   ],
   "source": [
    "# Store predicted probabilities in array\n",
    "predicted_probs = np.asarray(sharice_d['probwin'])\n",
    "forecast_date = pd.to_datetime(sharice_d['forecast_date'])\n",
    "\n",
    "forecast_date.head()"
   ]
  },
  {
   "cell_type": "code",
   "execution_count": 27,
   "metadata": {
    "deletable": false,
    "editable": false
   },
   "outputs": [
    {
     "name": "stdout",
     "output_type": "stream",
     "text": [
      "~~~~~~~~~~~~~~~~~~~~~~~~~~~~~~~~~~~~~~~~~~~~~~~~~~~~~~~~~~~~~~~~~~~~~\n",
      "Running tests\n",
      "\n",
      "---------------------------------------------------------------------\n",
      "Test summary\n",
      "    Passed: 3\n",
      "    Failed: 0\n",
      "[ooooooooook] 100.0% passed\n",
      "\n"
     ]
    }
   ],
   "source": [
    "ok.grade(\"q9a\");"
   ]
  },
  {
   "cell_type": "markdown",
   "metadata": {
    "deletable": false,
    "editable": false
   },
   "source": [
    "Now create a lineplot with forecast date on the x-axis and the predicted win probability on the y-axis.\n",
    "<!--\n",
    "BEGIN QUESTION\n",
    "name: q9b\n",
    "manual: true\n",
    "points: 2\n",
    "-->\n",
    "<!-- EXPORT TO PDF -->"
   ]
  },
  {
   "cell_type": "code",
   "execution_count": 46,
   "metadata": {},
   "outputs": [
    {
     "data": {
      "image/png": "[encoded data removed]",
      "text/plain": [
       "<Figure size 432x288 with 1 Axes>"
      ]
     },
     "metadata": {},
     "output_type": "display_data"
    }
   ],
   "source": [
    "plt.style.use('seaborn-whitegrid')\n",
    "# Need to fix X-axis for plot\n",
    "plt.plot(forecast_date, predicted_probs)\n",
    "plt.xticks(rotation=90)\n",
    "plt.title('Probability for Sharice Davids Winning on Each Date')\n",
    "\n",
    "plt.xlabel('Date')\n",
    "plt.ylabel('Win probability')\n",
    "plt.show()"
   ]
  },
  {
   "cell_type": "markdown",
   "metadata": {
    "deletable": false,
    "editable": false
   },
   "source": [
    "### Question 10: prediction histograms\n",
    "\n",
    "<!--\n",
    "BEGIN QUESTION\n",
    "name: q10a\n",
    "manual: true\n",
    "points: 2\n",
    "-->\n",
    "\n",
    "Make a histogram showing the predicted win probabilities on the morning of the election.  Again, restrict yourself to only the `classic` predictions.\n",
    "<!-- EXPORT TO PDF -->"
   ]
  },
  {
   "cell_type": "code",
   "execution_count": 48,
   "metadata": {},
   "outputs": [
    {
     "data": {
      "text/plain": [
       "4         0.00032\n",
       "5         0.99968\n",
       "10        0.07366\n",
       "11        0.92634\n",
       "18        0.06562\n",
       "19        0.00000\n",
       "20        0.93438\n",
       "25        0.00042\n",
       "26        0.99958\n",
       "31        0.00468\n",
       "32        0.99532\n",
       "39        0.00552\n",
       "40        0.00000\n",
       "41        0.99448\n",
       "46        0.04564\n",
       "47        0.95436\n",
       "52        0.01058\n",
       "53        0.98942\n",
       "60        1.00000\n",
       "61        0.00000\n",
       "62        0.00000\n",
       "67        0.99730\n",
       "68        0.00270\n",
       "71        1.00000\n",
       "78        0.22128\n",
       "79        0.00002\n",
       "80        0.77870\n",
       "85        0.98574\n",
       "86        0.01426\n",
       "91        0.66984\n",
       "           ...   \n",
       "283057    0.79834\n",
       "283058    0.20164\n",
       "283063    0.79264\n",
       "283064    0.20736\n",
       "283069    0.79534\n",
       "283070    0.20466\n",
       "283075    0.79472\n",
       "283076    0.20528\n",
       "283081    0.79356\n",
       "283082    0.20644\n",
       "283087    0.79250\n",
       "283088    0.20750\n",
       "283093    0.80980\n",
       "283094    0.19020\n",
       "283099    0.80928\n",
       "283100    0.19072\n",
       "283105    0.80160\n",
       "283106    0.19840\n",
       "283111    0.78446\n",
       "283112    0.21554\n",
       "283117    0.76738\n",
       "283118    0.23262\n",
       "283123    0.74564\n",
       "283124    0.25436\n",
       "283129    0.75540\n",
       "283130    0.24460\n",
       "283135    0.76104\n",
       "283136    0.23896\n",
       "283141    0.74842\n",
       "283142    0.25158\n",
       "Name: probwin, Length: 94381, dtype: float64"
      ]
     },
     "execution_count": 48,
     "metadata": {},
     "output_type": "execute_result"
    },
    {
     "data": {
      "image/png": "[encoded data removed]",
      "text/plain": [
       "<Figure size 432x288 with 1 Axes>"
      ]
     },
     "metadata": {},
     "output_type": "display_data"
    }
   ],
   "source": [
    "# histogram of prob1 for team1\n",
    "plt.hist(all_election['probwin'], range=[0,1], color= 'blue')\n",
    "plt.title(\"Predicted Win Probabilities Morning of Election\")\n",
    "plt.xlabel(\"Probability\")\n",
    "plt.ylabel(\"Frequency\")\n",
    "\n",
    "\n",
    "all_election['probwin']"
   ]
  },
  {
   "cell_type": "markdown",
   "metadata": {
    "deletable": false,
    "editable": false
   },
   "source": [
    "<!--\n",
    "BEGIN QUESTION\n",
    "name: q10b\n",
    "manual: true\n",
    "points: 2\n",
    "-->\n",
    "\n",
    "Are most house elections easy to forecast or hard to forecast?\n",
    "<!-- EXPORT TO PDF -->"
   ]
  },
  {
   "cell_type": "markdown",
   "metadata": {},
   "source": [
    "Yes, we can say that election are easy to forecast because there are a significant amount of candidates that had either a near a 0% chance of winning or near 100% chance of winning the election in there corresponding district."
   ]
  },
  {
   "cell_type": "markdown",
   "metadata": {},
   "source": [
    "### Question 11: Comparing election and baseball predictions\n",
    "\n",
    "Fivethirtyeight also builds predictive models for sporting events.  The following code will down a csv file containg their predictions for who would win every major league baseball game over the past two years."
   ]
  },
  {
   "cell_type": "code",
   "execution_count": 30,
   "metadata": {},
   "outputs": [
    {
     "name": "stdout",
     "output_type": "stream",
     "text": [
      "--2019-04-20 20:49:32--  https://raw.githubusercontent.com/fivethirtyeight/checking-our-work-data/master/mlb_games.csv\n",
      "Resolving raw.githubusercontent.com (raw.githubusercontent.com)... 151.101.0.133, 151.101.64.133, 151.101.128.133, ...\n",
      "Connecting to raw.githubusercontent.com (raw.githubusercontent.com)|151.101.0.133|:443... connected.\n",
      "HTTP request sent, awaiting response... 200 OK\n",
      "Length: 562029 (549K) [text/plain]\n",
      "Saving to: ‘mlb_games.csv.11’\n",
      "\n",
      "mlb_games.csv.11    100%[===================>] 548.86K  --.-KB/s    in 0.05s   \n",
      "\n",
      "2019-04-20 20:49:32 (10.7 MB/s) - ‘mlb_games.csv.11’ saved [562029/562029]\n",
      "\n"
     ]
    }
   ],
   "source": [
    "!wget https://raw.githubusercontent.com/fivethirtyeight/checking-our-work-data/master/mlb_games.csv    "
   ]
  },
  {
   "cell_type": "markdown",
   "metadata": {
    "deletable": false,
    "editable": false
   },
   "source": [
    "<!--\n",
    "BEGIN QUESTION\n",
    "name: q11a\n",
    "manual: true\n",
    "points: 2\n",
    "-->\n",
    "\n",
    "Create a pandas dataframe from the csv and print the first 10 rows.\n",
    "<!-- EXPORT TO PDF -->"
   ]
  },
  {
   "cell_type": "code",
   "execution_count": 31,
   "metadata": {},
   "outputs": [
    {
     "data": {
      "text/html": [
       "<div>\n",
       "<style scoped>\n",
       "    .dataframe tbody tr th:only-of-type {\n",
       "        vertical-align: middle;\n",
       "    }\n",
       "\n",
       "    .dataframe tbody tr th {\n",
       "        vertical-align: top;\n",
       "    }\n",
       "\n",
       "    .dataframe thead th {\n",
       "        text-align: right;\n",
       "    }\n",
       "</style>\n",
       "<table border=\"1\" class=\"dataframe\">\n",
       "  <thead>\n",
       "    <tr style=\"text-align: right;\">\n",
       "      <th></th>\n",
       "      <th>season</th>\n",
       "      <th>date</th>\n",
       "      <th>team1</th>\n",
       "      <th>team2</th>\n",
       "      <th>dh</th>\n",
       "      <th>prob1</th>\n",
       "      <th>prob1_outcome</th>\n",
       "      <th>prob2</th>\n",
       "      <th>prob2_outcome</th>\n",
       "    </tr>\n",
       "  </thead>\n",
       "  <tbody>\n",
       "    <tr>\n",
       "      <th>0</th>\n",
       "      <td>2018</td>\n",
       "      <td>2018-10-28</td>\n",
       "      <td>Dodgers</td>\n",
       "      <td>Red Sox</td>\n",
       "      <td>0</td>\n",
       "      <td>0.483877</td>\n",
       "      <td>0.0</td>\n",
       "      <td>0.516123</td>\n",
       "      <td>1.0</td>\n",
       "    </tr>\n",
       "    <tr>\n",
       "      <th>1</th>\n",
       "      <td>2018</td>\n",
       "      <td>2018-10-27</td>\n",
       "      <td>Dodgers</td>\n",
       "      <td>Red Sox</td>\n",
       "      <td>0</td>\n",
       "      <td>0.508342</td>\n",
       "      <td>0.0</td>\n",
       "      <td>0.491658</td>\n",
       "      <td>1.0</td>\n",
       "    </tr>\n",
       "    <tr>\n",
       "      <th>2</th>\n",
       "      <td>2018</td>\n",
       "      <td>2018-10-26</td>\n",
       "      <td>Dodgers</td>\n",
       "      <td>Red Sox</td>\n",
       "      <td>0</td>\n",
       "      <td>0.555907</td>\n",
       "      <td>1.0</td>\n",
       "      <td>0.444093</td>\n",
       "      <td>0.0</td>\n",
       "    </tr>\n",
       "    <tr>\n",
       "      <th>3</th>\n",
       "      <td>2018</td>\n",
       "      <td>2018-10-24</td>\n",
       "      <td>Red Sox</td>\n",
       "      <td>Dodgers</td>\n",
       "      <td>0</td>\n",
       "      <td>0.619808</td>\n",
       "      <td>1.0</td>\n",
       "      <td>0.380192</td>\n",
       "      <td>0.0</td>\n",
       "    </tr>\n",
       "    <tr>\n",
       "      <th>4</th>\n",
       "      <td>2018</td>\n",
       "      <td>2018-10-23</td>\n",
       "      <td>Red Sox</td>\n",
       "      <td>Dodgers</td>\n",
       "      <td>0</td>\n",
       "      <td>0.648954</td>\n",
       "      <td>1.0</td>\n",
       "      <td>0.351046</td>\n",
       "      <td>0.0</td>\n",
       "    </tr>\n",
       "    <tr>\n",
       "      <th>5</th>\n",
       "      <td>2018</td>\n",
       "      <td>2018-10-20</td>\n",
       "      <td>Brewers</td>\n",
       "      <td>Dodgers</td>\n",
       "      <td>0</td>\n",
       "      <td>0.509500</td>\n",
       "      <td>0.0</td>\n",
       "      <td>0.490500</td>\n",
       "      <td>1.0</td>\n",
       "    </tr>\n",
       "    <tr>\n",
       "      <th>6</th>\n",
       "      <td>2018</td>\n",
       "      <td>2018-10-19</td>\n",
       "      <td>Brewers</td>\n",
       "      <td>Dodgers</td>\n",
       "      <td>0</td>\n",
       "      <td>0.505211</td>\n",
       "      <td>1.0</td>\n",
       "      <td>0.494789</td>\n",
       "      <td>0.0</td>\n",
       "    </tr>\n",
       "    <tr>\n",
       "      <th>7</th>\n",
       "      <td>2018</td>\n",
       "      <td>2018-10-18</td>\n",
       "      <td>Astros</td>\n",
       "      <td>Red Sox</td>\n",
       "      <td>0</td>\n",
       "      <td>0.603029</td>\n",
       "      <td>0.0</td>\n",
       "      <td>0.396971</td>\n",
       "      <td>1.0</td>\n",
       "    </tr>\n",
       "    <tr>\n",
       "      <th>8</th>\n",
       "      <td>2018</td>\n",
       "      <td>2018-10-17</td>\n",
       "      <td>Astros</td>\n",
       "      <td>Red Sox</td>\n",
       "      <td>0</td>\n",
       "      <td>0.568016</td>\n",
       "      <td>0.0</td>\n",
       "      <td>0.431984</td>\n",
       "      <td>1.0</td>\n",
       "    </tr>\n",
       "  </tbody>\n",
       "</table>\n",
       "</div>"
      ],
      "text/plain": [
       "   season        date    team1    team2  dh     prob1  prob1_outcome  \\\n",
       "0    2018  2018-10-28  Dodgers  Red Sox   0  0.483877            0.0   \n",
       "1    2018  2018-10-27  Dodgers  Red Sox   0  0.508342            0.0   \n",
       "2    2018  2018-10-26  Dodgers  Red Sox   0  0.555907            1.0   \n",
       "3    2018  2018-10-24  Red Sox  Dodgers   0  0.619808            1.0   \n",
       "4    2018  2018-10-23  Red Sox  Dodgers   0  0.648954            1.0   \n",
       "5    2018  2018-10-20  Brewers  Dodgers   0  0.509500            0.0   \n",
       "6    2018  2018-10-19  Brewers  Dodgers   0  0.505211            1.0   \n",
       "7    2018  2018-10-18   Astros  Red Sox   0  0.603029            0.0   \n",
       "8    2018  2018-10-17   Astros  Red Sox   0  0.568016            0.0   \n",
       "\n",
       "      prob2  prob2_outcome  \n",
       "0  0.516123            1.0  \n",
       "1  0.491658            1.0  \n",
       "2  0.444093            0.0  \n",
       "3  0.380192            0.0  \n",
       "4  0.351046            0.0  \n",
       "5  0.490500            1.0  \n",
       "6  0.494789            0.0  \n",
       "7  0.396971            1.0  \n",
       "8  0.431984            1.0  "
      ]
     },
     "execution_count": 31,
     "metadata": {},
     "output_type": "execute_result"
    }
   ],
   "source": [
    "mlbgames = pd.read_csv(\"mlb_games.csv\")\n",
    "\n",
    "mlbgames.iloc[0:9]"
   ]
  },
  {
   "cell_type": "markdown",
   "metadata": {
    "deletable": false,
    "editable": false
   },
   "source": [
    "In this dataframe `prob1` is the predicted win probability for `team1`.  Make a histogram of `prob1`.  Set the limits of the x-axis to `[0, 1]`\n",
    "<!--\n",
    "BEGIN QUESTION\n",
    "name: q11b\n",
    "manual: true\n",
    "points: 2\n",
    "-->\n",
    "<!-- EXPORT TO PDF -->"
   ]
  },
  {
   "cell_type": "code",
   "execution_count": 32,
   "metadata": {
    "scrolled": true
   },
   "outputs": [
    {
     "data": {
      "text/plain": [
       "Text(0, 0.5, 'Frequency')"
      ]
     },
     "execution_count": 32,
     "metadata": {},
     "output_type": "execute_result"
    },
    {
     "data": {
      "image/png": "[encoded data removed]",
      "text/plain": [
       "<Figure size 432x288 with 1 Axes>"
      ]
     },
     "metadata": {},
     "output_type": "display_data"
    }
   ],
   "source": [
    "import matplotlib.pyplot as plt\n",
    "\n",
    "\n",
    "# histogram of prob1 for team1\n",
    "plt.hist(mlbgames['prob1'], range=[0,1], color= 'pink')\n",
    "plt.title(\"Team 1 Prob Freq\")\n",
    "plt.xlabel(\"Probability\")\n",
    "plt.ylabel(\"Frequency\")\n",
    "\n",
    "\n"
   ]
  },
  {
   "cell_type": "markdown",
   "metadata": {
    "deletable": false,
    "editable": false
   },
   "source": [
    "### Question 12\n",
    "\n",
    "<!--\n",
    "BEGIN QUESTION\n",
    "name: q12\n",
    "manual: true\n",
    "points: 2\n",
    "-->\n",
    "\n",
    "Find the most \"surprising\" baseball game outcome.  To do so, select all of the entries for which `prob1_outcome` is 1 (i.e. `team1` won the game), and then look for the index of the row containing the smallest value of `prob1`.  This will correspond to the game that was most suprising according to fivethirtyeights predictions. Find and print the row corresponding to this most surprising outcome.\n",
    "<!-- EXPORT TO PDF -->"
   ]
  },
  {
   "cell_type": "code",
   "execution_count": 33,
   "metadata": {
    "scrolled": true
   },
   "outputs": [
    {
     "data": {
      "text/plain": [
       "season                 2018\n",
       "date             2018-08-25\n",
       "team1                Royals\n",
       "team2               Indians\n",
       "dh                        0\n",
       "prob1              0.287558\n",
       "prob1_outcome             1\n",
       "prob2              0.712442\n",
       "prob2_outcome             0\n",
       "Name: 521, dtype: object"
      ]
     },
     "execution_count": 33,
     "metadata": {},
     "output_type": "execute_result"
    }
   ],
   "source": [
    "# Filtering rows with classic\n",
    "team1win_filter = mlbgames.prob1_outcome == 1\n",
    "\n",
    "#Applying filter where team 1 won game\n",
    "mlbfilter = mlbgames[team1win_filter]\n",
    "\n",
    "# Get row which has max value, \n",
    "# idx max returns index that has max value\n",
    "mlbfilter.loc[mlbfilter['prob1'].idxmin()]\n",
    "\n"
   ]
  },
  {
   "cell_type": "markdown",
   "metadata": {
    "deletable": false,
    "editable": false
   },
   "source": [
    "### Question 13\n",
    "\n",
    "<!--\n",
    "BEGIN QUESTION\n",
    "name: q13\n",
    "manual: true\n",
    "points: 2\n",
    "-->\n",
    "\n",
    "Are the outcomes of baseball games generally easier or harder to predict than the outcomes of political elections?  In a few sentences, comment on why this might be the case.  What data is available for these predictions? What factors affect the outcomes of elections and baseball games? What makes an event like an election or a baseballgame \"random\"?\n",
    "<!-- EXPORT TO PDF -->"
   ]
  },
  {
   "cell_type": "markdown",
   "metadata": {},
   "source": [
    "    Building a predictive model for baseball games may be harder than political election ones because there are a multitude of things that affect baseball games. In baseball, we have to account for player injuries, home court advantage, weather that day, and many other variables. For house elections there are pre-election polls that are accurate in determining who will win on election days. Also incumbents are way more likely to stay in office. Baseball games and elections are random events because there is never a 100% chance of an outcome happening. As we see in 538's model the Indians had a 71% chance of winning, but ended up losing away. Individual events are random, however if we were to run the events over a certain amount of trials, we could make a more accurate prediction that the Indians would win more games than the Royals in a 7 game playoff series."
   ]
  },
  {
   "cell_type": "markdown",
   "metadata": {
    "deletable": false,
    "editable": false
   },
   "source": [
    "### Question 14 (PSTAT 234)\n",
    "\n",
    "**(Question 5 revisited)** In Question 5, error bars were calculated by assuming that election outcomes are Binomial random variables.\n",
    "\n",
    "On the other hand, if we do not have a good distributional about the election outcomes, we can estimate the error bars from resampling the data.\n",
    "\n",
    "Write a function named `bootstrap_data_means` that can take a data frame, say `data_in`, as input. Suppose `data_in` has `n` rows. Inside `bootstrap_data_means` function, you will\n",
    "\n",
    "1. Select `n`-rows of `data_in` at random with replacement, creating a pseudo-dataset\n",
    "1. For each bin, compute probabilities of success for each pseudo-dataset as you have done on Question 5\n",
    "1. Return the computed probabilities\n",
    "\n",
    "<!--\n",
    "BEGIN QUESTION\n",
    "name: q14a\n",
    "manual: false\n",
    "points: 2\n",
    "-->\n",
    "\n",
    "Then, run `bootstrap_data_means` function 100 times, and create a data frame `bootstrap_election_100_agg`:"
   ]
  },
  {
   "cell_type": "code",
   "execution_count": 34,
   "metadata": {},
   "outputs": [],
   "source": [
    "def bootstrap_data_means(data_in):\n",
    "    \n",
    "    from numpy.random import choice\n",
    "    \n",
    "    n = len(data_in)\n",
    "    \n",
    "    # randomly sample row indices with replacement\n",
    "    indx = ...\n",
    "    # compute probabilities of success\n",
    "    bootstrap_means = ...\n",
    "    \n",
    "    return(bootstrap_means)\n",
    "\n",
    "bootstrap_election_100_agg = ..."
   ]
  },
  {
   "cell_type": "code",
   "execution_count": 35,
   "metadata": {
    "deletable": false,
    "editable": false
   },
   "outputs": [
    {
     "name": "stdout",
     "output_type": "stream",
     "text": [
      "~~~~~~~~~~~~~~~~~~~~~~~~~~~~~~~~~~~~~~~~~~~~~~~~~~~~~~~~~~~~~~~~~~~~~\n",
      "Running tests\n",
      "\n",
      "---------------------------------------------------------------------\n",
      "q14a > Suite 1 > Case 1\n",
      "\n",
      ">>> \n",
      ">>> len(bootstrap_data_means(election_sub))\n",
      "TypeError: object of type 'ellipsis' has no len()\n",
      "\n",
      "# Error: expected\n",
      "#     19\n",
      "# but got\n",
      "#     Traceback (most recent call last):\n",
      "#       ...\n",
      "#     TypeError: object of type 'ellipsis' has no len()\n",
      "\n",
      "Run only this test case with \"python3 ok -q q14a --suite 1 --case 1\"\n",
      "---------------------------------------------------------------------\n",
      "Test summary\n",
      "    Passed: 0\n",
      "    Failed: 1\n",
      "[k..........] 0.0% passed\n",
      "\n"
     ]
    }
   ],
   "source": [
    "ok.grade(\"q14a\");"
   ]
  },
  {
   "cell_type": "markdown",
   "metadata": {
    "deletable": false,
    "editable": false
   },
   "source": [
    "By now, we have a distribution of success probabilities saved in `bootstrap_election_agg`. We can compute empirical error bars from 2.5% and 97.5% quantiles. Write function named `bootstrap_error_bars` that can be used to calculate the following columns:\n",
    "1. `mean`: mean of probabilities of success\n",
    "1. `err_low`: low point of the error bars\n",
    "1. `err_high`: high point of the error bars\n",
    "\n",
    "<!--\n",
    "BEGIN QUESTION\n",
    "name: q14b\n",
    "manual: false\n",
    "points: 2\n",
    "-->\n",
    "Funtion `bootstrap_error_bars` is to be called by using `bootstrap_election_agg.apply(bootstrap_error_bars, ...)`."
   ]
  },
  {
   "cell_type": "code",
   "execution_count": 36,
   "metadata": {},
   "outputs": [],
   "source": [
    "def bootstrap_error_bars(x):\n",
    "    ...\n",
    "    \n",
    "bootstrap_election_agg = ..."
   ]
  },
  {
   "cell_type": "code",
   "execution_count": 37,
   "metadata": {
    "deletable": false,
    "editable": false
   },
   "outputs": [
    {
     "name": "stdout",
     "output_type": "stream",
     "text": [
      "~~~~~~~~~~~~~~~~~~~~~~~~~~~~~~~~~~~~~~~~~~~~~~~~~~~~~~~~~~~~~~~~~~~~~\n",
      "Running tests\n",
      "\n",
      "---------------------------------------------------------------------\n",
      "q14b > Suite 1 > Case 1\n",
      "\n",
      ">>> \n",
      ">>> all(bootstrap_election_agg.columns == ['mean', 'err_low', 'err_high'])\n",
      "AttributeError: 'ellipsis' object has no attribute 'columns'\n",
      "\n",
      "# Error: expected\n",
      "#     True\n",
      "# but got\n",
      "#     Traceback (most recent call last):\n",
      "#       ...\n",
      "#     AttributeError: 'ellipsis' object has no attribute 'columns'\n",
      "\n",
      "Run only this test case with \"python3 ok -q q14b --suite 1 --case 1\"\n",
      "---------------------------------------------------------------------\n",
      "Test summary\n",
      "    Passed: 0\n",
      "    Failed: 1\n",
      "[k..........] 0.0% passed\n",
      "\n"
     ]
    }
   ],
   "source": [
    "ok.grade(\"q14b\");"
   ]
  },
  {
   "cell_type": "markdown",
   "metadata": {},
   "source": [
    "Recall the figure from Question 5. In addition, draw a horizontal lines at 0 and 1."
   ]
  },
  {
   "cell_type": "code",
   "execution_count": 38,
   "metadata": {},
   "outputs": [
    {
     "data": {
      "text/plain": [
       "[<matplotlib.lines.Line2D at 0x7fb7804963c8>]"
      ]
     },
     "execution_count": 38,
     "metadata": {},
     "output_type": "execute_result"
    },
    {
     "data": {
      "image/png": "[encoded data removed]",
      "text/plain": [
       "<Figure size 432x288 with 1 Axes>"
      ]
     },
     "metadata": {},
     "output_type": "display_data"
    }
   ],
   "source": [
    "plt.errorbar(midpoints, election_agg['mean'].values, yerr=election_agg['err'].values, fmt='.')\n",
    "plt.plot([0, 1], [0, 1], '--')\n",
    "plt.plot([0, 1], [1, 1], ':r')\n",
    "plt.plot([0, 1], [0, 0], ':r')"
   ]
  },
  {
   "cell_type": "markdown",
   "metadata": {
    "deletable": false,
    "editable": false
   },
   "source": [
    "<!--\n",
    "BEGIN QUESTION\n",
    "name: q14c\n",
    "manual: true\n",
    "points: 2\n",
    "-->\n",
    "Create an analogous plot for empirical error bars with `bootstrap_election_agg`. Also draw a horizontal lines at 0 and 1.\n",
    "<!-- EXPORT TO PDF -->"
   ]
  },
  {
   "cell_type": "markdown",
   "metadata": {},
   "source": [
    "**SOLUTION HERE**"
   ]
  },
  {
   "cell_type": "code",
   "execution_count": 39,
   "metadata": {},
   "outputs": [],
   "source": [
    "# Create a similar figure using empirical error bars  \n",
    "..."
   ]
  },
  {
   "cell_type": "markdown",
   "metadata": {
    "deletable": false,
    "editable": false
   },
   "source": [
    "<!--\n",
    "BEGIN QUESTION\n",
    "name: q14d\n",
    "manual: true\n",
    "points: 2\n",
    "-->\n",
    "Compare the two error bar plots and explain.\n",
    "<!-- EXPORT TO PDF -->"
   ]
  },
  {
   "cell_type": "markdown",
   "metadata": {},
   "source": [
    "**SOLUTION HERE**"
   ]
  },
  {
   "cell_type": "markdown",
   "metadata": {
    "deletable": false,
    "editable": false
   },
   "source": [
    "# Submit\n",
    "Make sure you have run all cells in your notebook in order before running the cell below, so that all images/graphs appear in the output.\n",
    "**Please save before submitting!**\n",
    "\n",
    "<!-- EXPECT 16 EXPORTED QUESTIONS -->"
   ]
  },
  {
   "cell_type": "code",
   "execution_count": 52,
   "metadata": {
    "deletable": false,
    "editable": false
   },
   "outputs": [
    {
     "name": "stdout",
     "output_type": "stream",
     "text": [
      "Generating PDF...\n"
     ]
    },
    {
     "name": "stderr",
     "output_type": "stream",
     "text": [
      "/opt/conda/lib/python3.6/site-packages/nbconvert/utils/pandoc.py:52: RuntimeWarning: You are using an unsupported version of pandoc (2.7.2).\n",
      "Your version must be at least (1.12.1) but less than (2.0.0).\n",
      "Refer to http://pandoc.org/installing.html.\n",
      "Continuing with doubts...\n",
      "  check_pandoc_version()\n",
      "/opt/conda/lib/python3.6/site-packages/nbconvert/utils/pandoc.py:52: RuntimeWarning: You are using an unsupported version of pandoc (2.7.2).\n",
      "Your version must be at least (1.12.1) but less than (2.0.0).\n",
      "Refer to http://pandoc.org/installing.html.\n",
      "Continuing with doubts...\n",
      "  check_pandoc_version()\n",
      "/opt/conda/lib/python3.6/site-packages/nbconvert/utils/pandoc.py:52: RuntimeWarning: You are using an unsupported version of pandoc (2.7.2).\n",
      "Your version must be at least (1.12.1) but less than (2.0.0).\n",
      "Refer to http://pandoc.org/installing.html.\n",
      "Continuing with doubts...\n",
      "  check_pandoc_version()\n",
      "/opt/conda/lib/python3.6/site-packages/nbconvert/utils/pandoc.py:52: RuntimeWarning: You are using an unsupported version of pandoc (2.7.2).\n",
      "Your version must be at least (1.12.1) but less than (2.0.0).\n",
      "Refer to http://pandoc.org/installing.html.\n",
      "Continuing with doubts...\n",
      "  check_pandoc_version()\n",
      "/opt/conda/lib/python3.6/site-packages/nbconvert/utils/pandoc.py:52: RuntimeWarning: You are using an unsupported version of pandoc (2.7.2).\n",
      "Your version must be at least (1.12.1) but less than (2.0.0).\n",
      "Refer to http://pandoc.org/installing.html.\n",
      "Continuing with doubts...\n",
      "  check_pandoc_version()\n",
      "/opt/conda/lib/python3.6/site-packages/nbconvert/utils/pandoc.py:52: RuntimeWarning: You are using an unsupported version of pandoc (2.7.2).\n",
      "Your version must be at least (1.12.1) but less than (2.0.0).\n",
      "Refer to http://pandoc.org/installing.html.\n",
      "Continuing with doubts...\n",
      "  check_pandoc_version()\n",
      "/opt/conda/lib/python3.6/site-packages/nbconvert/utils/pandoc.py:52: RuntimeWarning: You are using an unsupported version of pandoc (2.7.2).\n",
      "Your version must be at least (1.12.1) but less than (2.0.0).\n",
      "Refer to http://pandoc.org/installing.html.\n",
      "Continuing with doubts...\n",
      "  check_pandoc_version()\n",
      "/opt/conda/lib/python3.6/site-packages/nbconvert/utils/pandoc.py:52: RuntimeWarning: You are using an unsupported version of pandoc (2.7.2).\n",
      "Your version must be at least (1.12.1) but less than (2.0.0).\n",
      "Refer to http://pandoc.org/installing.html.\n",
      "Continuing with doubts...\n",
      "  check_pandoc_version()\n",
      "/opt/conda/lib/python3.6/site-packages/nbconvert/utils/pandoc.py:52: RuntimeWarning: You are using an unsupported version of pandoc (2.7.2).\n",
      "Your version must be at least (1.12.1) but less than (2.0.0).\n",
      "Refer to http://pandoc.org/installing.html.\n",
      "Continuing with doubts...\n",
      "  check_pandoc_version()\n",
      "/opt/conda/lib/python3.6/site-packages/nbconvert/utils/pandoc.py:52: RuntimeWarning: You are using an unsupported version of pandoc (2.7.2).\n",
      "Your version must be at least (1.12.1) but less than (2.0.0).\n",
      "Refer to http://pandoc.org/installing.html.\n",
      "Continuing with doubts...\n",
      "  check_pandoc_version()\n",
      "/opt/conda/lib/python3.6/site-packages/nbconvert/utils/pandoc.py:52: RuntimeWarning: You are using an unsupported version of pandoc (2.7.2).\n",
      "Your version must be at least (1.12.1) but less than (2.0.0).\n",
      "Refer to http://pandoc.org/installing.html.\n",
      "Continuing with doubts...\n",
      "  check_pandoc_version()\n",
      "/opt/conda/lib/python3.6/site-packages/nbconvert/utils/pandoc.py:52: RuntimeWarning: You are using an unsupported version of pandoc (2.7.2).\n",
      "Your version must be at least (1.12.1) but less than (2.0.0).\n",
      "Refer to http://pandoc.org/installing.html.\n",
      "Continuing with doubts...\n",
      "  check_pandoc_version()\n",
      "/opt/conda/lib/python3.6/site-packages/nbconvert/utils/pandoc.py:52: RuntimeWarning: You are using an unsupported version of pandoc (2.7.2).\n",
      "Your version must be at least (1.12.1) but less than (2.0.0).\n",
      "Refer to http://pandoc.org/installing.html.\n",
      "Continuing with doubts...\n",
      "  check_pandoc_version()\n",
      "/opt/conda/lib/python3.6/site-packages/nbconvert/utils/pandoc.py:52: RuntimeWarning: You are using an unsupported version of pandoc (2.7.2).\n",
      "Your version must be at least (1.12.1) but less than (2.0.0).\n",
      "Refer to http://pandoc.org/installing.html.\n",
      "Continuing with doubts...\n",
      "  check_pandoc_version()\n",
      "/opt/conda/lib/python3.6/site-packages/nbconvert/utils/pandoc.py:52: RuntimeWarning: You are using an unsupported version of pandoc (2.7.2).\n",
      "Your version must be at least (1.12.1) but less than (2.0.0).\n",
      "Refer to http://pandoc.org/installing.html.\n",
      "Continuing with doubts...\n",
      "  check_pandoc_version()\n",
      "/opt/conda/lib/python3.6/site-packages/nbconvert/utils/pandoc.py:52: RuntimeWarning: You are using an unsupported version of pandoc (2.7.2).\n",
      "Your version must be at least (1.12.1) but less than (2.0.0).\n",
      "Refer to http://pandoc.org/installing.html.\n",
      "Continuing with doubts...\n",
      "  check_pandoc_version()\n",
      "/opt/conda/lib/python3.6/site-packages/nbconvert/utils/pandoc.py:52: RuntimeWarning: You are using an unsupported version of pandoc (2.7.2).\n",
      "Your version must be at least (1.12.1) but less than (2.0.0).\n",
      "Refer to http://pandoc.org/installing.html.\n",
      "Continuing with doubts...\n",
      "  check_pandoc_version()\n",
      "/opt/conda/lib/python3.6/site-packages/nbconvert/utils/pandoc.py:52: RuntimeWarning: You are using an unsupported version of pandoc (2.7.2).\n",
      "Your version must be at least (1.12.1) but less than (2.0.0).\n",
      "Refer to http://pandoc.org/installing.html.\n",
      "Continuing with doubts...\n",
      "  check_pandoc_version()\n",
      "/opt/conda/lib/python3.6/site-packages/nbconvert/utils/pandoc.py:52: RuntimeWarning: You are using an unsupported version of pandoc (2.7.2).\n",
      "Your version must be at least (1.12.1) but less than (2.0.0).\n",
      "Refer to http://pandoc.org/installing.html.\n",
      "Continuing with doubts...\n",
      "  check_pandoc_version()\n",
      "/opt/conda/lib/python3.6/site-packages/nbconvert/utils/pandoc.py:52: RuntimeWarning: You are using an unsupported version of pandoc (2.7.2).\n",
      "Your version must be at least (1.12.1) but less than (2.0.0).\n",
      "Refer to http://pandoc.org/installing.html.\n",
      "Continuing with doubts...\n",
      "  check_pandoc_version()\n",
      "/opt/conda/lib/python3.6/site-packages/nbconvert/utils/pandoc.py:52: RuntimeWarning: You are using an unsupported version of pandoc (2.7.2).\n",
      "Your version must be at least (1.12.1) but less than (2.0.0).\n",
      "Refer to http://pandoc.org/installing.html.\n",
      "Continuing with doubts...\n",
      "  check_pandoc_version()\n",
      "/opt/conda/lib/python3.6/site-packages/nbconvert/utils/pandoc.py:52: RuntimeWarning: You are using an unsupported version of pandoc (2.7.2).\n",
      "Your version must be at least (1.12.1) but less than (2.0.0).\n",
      "Refer to http://pandoc.org/installing.html.\n",
      "Continuing with doubts...\n",
      "  check_pandoc_version()\n",
      "/opt/conda/lib/python3.6/site-packages/nbconvert/utils/pandoc.py:52: RuntimeWarning: You are using an unsupported version of pandoc (2.7.2).\n",
      "Your version must be at least (1.12.1) but less than (2.0.0).\n",
      "Refer to http://pandoc.org/installing.html.\n",
      "Continuing with doubts...\n",
      "  check_pandoc_version()\n",
      "/opt/conda/lib/python3.6/site-packages/nbconvert/utils/pandoc.py:52: RuntimeWarning: You are using an unsupported version of pandoc (2.7.2).\n",
      "Your version must be at least (1.12.1) but less than (2.0.0).\n",
      "Refer to http://pandoc.org/installing.html.\n",
      "Continuing with doubts...\n",
      "  check_pandoc_version()\n",
      "/opt/conda/lib/python3.6/site-packages/nbconvert/utils/pandoc.py:52: RuntimeWarning: You are using an unsupported version of pandoc (2.7.2).\n",
      "Your version must be at least (1.12.1) but less than (2.0.0).\n",
      "Refer to http://pandoc.org/installing.html.\n",
      "Continuing with doubts...\n",
      "  check_pandoc_version()\n",
      "/opt/conda/lib/python3.6/site-packages/nbconvert/utils/pandoc.py:52: RuntimeWarning: You are using an unsupported version of pandoc (2.7.2).\n",
      "Your version must be at least (1.12.1) but less than (2.0.0).\n",
      "Refer to http://pandoc.org/installing.html.\n",
      "Continuing with doubts...\n",
      "  check_pandoc_version()\n",
      "/opt/conda/lib/python3.6/site-packages/nbconvert/utils/pandoc.py:52: RuntimeWarning: You are using an unsupported version of pandoc (2.7.2).\n",
      "Your version must be at least (1.12.1) but less than (2.0.0).\n",
      "Refer to http://pandoc.org/installing.html.\n",
      "Continuing with doubts...\n",
      "  check_pandoc_version()\n",
      "/opt/conda/lib/python3.6/site-packages/nbconvert/utils/pandoc.py:52: RuntimeWarning: You are using an unsupported version of pandoc (2.7.2).\n",
      "Your version must be at least (1.12.1) but less than (2.0.0).\n",
      "Refer to http://pandoc.org/installing.html.\n",
      "Continuing with doubts...\n",
      "  check_pandoc_version()\n",
      "/opt/conda/lib/python3.6/site-packages/nbconvert/utils/pandoc.py:52: RuntimeWarning: You are using an unsupported version of pandoc (2.7.2).\n",
      "Your version must be at least (1.12.1) but less than (2.0.0).\n",
      "Refer to http://pandoc.org/installing.html.\n",
      "Continuing with doubts...\n",
      "  check_pandoc_version()\n",
      "/opt/conda/lib/python3.6/site-packages/nbconvert/utils/pandoc.py:52: RuntimeWarning: You are using an unsupported version of pandoc (2.7.2).\n",
      "Your version must be at least (1.12.1) but less than (2.0.0).\n",
      "Refer to http://pandoc.org/installing.html.\n",
      "Continuing with doubts...\n",
      "  check_pandoc_version()\n",
      "/opt/conda/lib/python3.6/site-packages/nbconvert/utils/pandoc.py:52: RuntimeWarning: You are using an unsupported version of pandoc (2.7.2).\n",
      "Your version must be at least (1.12.1) but less than (2.0.0).\n",
      "Refer to http://pandoc.org/installing.html.\n",
      "Continuing with doubts...\n",
      "  check_pandoc_version()\n",
      "/opt/conda/lib/python3.6/site-packages/nbconvert/utils/pandoc.py:52: RuntimeWarning: You are using an unsupported version of pandoc (2.7.2).\n",
      "Your version must be at least (1.12.1) but less than (2.0.0).\n",
      "Refer to http://pandoc.org/installing.html.\n",
      "Continuing with doubts...\n",
      "  check_pandoc_version()\n",
      "/opt/conda/lib/python3.6/site-packages/nbconvert/utils/pandoc.py:52: RuntimeWarning: You are using an unsupported version of pandoc (2.7.2).\n",
      "Your version must be at least (1.12.1) but less than (2.0.0).\n",
      "Refer to http://pandoc.org/installing.html.\n",
      "Continuing with doubts...\n",
      "  check_pandoc_version()\n"
     ]
    },
    {
     "name": "stderr",
     "output_type": "stream",
     "text": [
      "/opt/conda/lib/python3.6/site-packages/nbconvert/utils/pandoc.py:52: RuntimeWarning: You are using an unsupported version of pandoc (2.7.2).\n",
      "Your version must be at least (1.12.1) but less than (2.0.0).\n",
      "Refer to http://pandoc.org/installing.html.\n",
      "Continuing with doubts...\n",
      "  check_pandoc_version()\n",
      "/opt/conda/lib/python3.6/site-packages/nbconvert/utils/pandoc.py:52: RuntimeWarning: You are using an unsupported version of pandoc (2.7.2).\n",
      "Your version must be at least (1.12.1) but less than (2.0.0).\n",
      "Refer to http://pandoc.org/installing.html.\n",
      "Continuing with doubts...\n",
      "  check_pandoc_version()\n",
      "/opt/conda/lib/python3.6/site-packages/nbconvert/utils/pandoc.py:52: RuntimeWarning: You are using an unsupported version of pandoc (2.7.2).\n",
      "Your version must be at least (1.12.1) but less than (2.0.0).\n",
      "Refer to http://pandoc.org/installing.html.\n",
      "Continuing with doubts...\n",
      "  check_pandoc_version()\n",
      "/opt/conda/lib/python3.6/site-packages/nbconvert/utils/pandoc.py:52: RuntimeWarning: You are using an unsupported version of pandoc (2.7.2).\n",
      "Your version must be at least (1.12.1) but less than (2.0.0).\n",
      "Refer to http://pandoc.org/installing.html.\n",
      "Continuing with doubts...\n",
      "  check_pandoc_version()\n",
      "/opt/conda/lib/python3.6/site-packages/nbconvert/utils/pandoc.py:52: RuntimeWarning: You are using an unsupported version of pandoc (2.7.2).\n",
      "Your version must be at least (1.12.1) but less than (2.0.0).\n",
      "Refer to http://pandoc.org/installing.html.\n",
      "Continuing with doubts...\n",
      "  check_pandoc_version()\n",
      "/opt/conda/lib/python3.6/site-packages/nbconvert/utils/pandoc.py:52: RuntimeWarning: You are using an unsupported version of pandoc (2.7.2).\n",
      "Your version must be at least (1.12.1) but less than (2.0.0).\n",
      "Refer to http://pandoc.org/installing.html.\n",
      "Continuing with doubts...\n",
      "  check_pandoc_version()\n",
      "/opt/conda/lib/python3.6/site-packages/nbconvert/utils/pandoc.py:52: RuntimeWarning: You are using an unsupported version of pandoc (2.7.2).\n",
      "Your version must be at least (1.12.1) but less than (2.0.0).\n",
      "Refer to http://pandoc.org/installing.html.\n",
      "Continuing with doubts...\n",
      "  check_pandoc_version()\n",
      "/opt/conda/lib/python3.6/site-packages/nbconvert/utils/pandoc.py:52: RuntimeWarning: You are using an unsupported version of pandoc (2.7.2).\n",
      "Your version must be at least (1.12.1) but less than (2.0.0).\n",
      "Refer to http://pandoc.org/installing.html.\n",
      "Continuing with doubts...\n",
      "  check_pandoc_version()\n",
      "/opt/conda/lib/python3.6/site-packages/nbconvert/utils/pandoc.py:52: RuntimeWarning: You are using an unsupported version of pandoc (2.7.2).\n",
      "Your version must be at least (1.12.1) but less than (2.0.0).\n",
      "Refer to http://pandoc.org/installing.html.\n",
      "Continuing with doubts...\n",
      "  check_pandoc_version()\n",
      "/opt/conda/lib/python3.6/site-packages/nbconvert/utils/pandoc.py:52: RuntimeWarning: You are using an unsupported version of pandoc (2.7.2).\n",
      "Your version must be at least (1.12.1) but less than (2.0.0).\n",
      "Refer to http://pandoc.org/installing.html.\n",
      "Continuing with doubts...\n",
      "  check_pandoc_version()\n",
      "/opt/conda/lib/python3.6/site-packages/nbconvert/utils/pandoc.py:52: RuntimeWarning: You are using an unsupported version of pandoc (2.7.2).\n",
      "Your version must be at least (1.12.1) but less than (2.0.0).\n",
      "Refer to http://pandoc.org/installing.html.\n",
      "Continuing with doubts...\n",
      "  check_pandoc_version()\n"
     ]
    },
    {
     "name": "stdout",
     "output_type": "stream",
     "text": [
      "Saved homework1.pdf\n"
     ]
    },
    {
     "data": {
      "application/javascript": [
       "IPython.notebook.save_checkpoint();"
      ],
      "text/plain": [
       "<IPython.core.display.Javascript object>"
      ]
     },
     "metadata": {},
     "output_type": "display_data"
    },
    {
     "data": {
      "application/javascript": [
       "IPython.notebook.save_notebook();"
      ],
      "text/plain": [
       "<IPython.core.display.Javascript object>"
      ]
     },
     "metadata": {},
     "output_type": "display_data"
    },
    {
     "name": "stdout",
     "output_type": "stream",
     "text": [
      "Saving notebook... Saved 'homework1.ipynb'.\n",
      "Submit... 100% complete\n",
      "Submission successful for user: andytran@ucsb.edu\n",
      "URL: https://okpy.org/ucsb/pstat134234/sp19/homework1/submissions/4QwjwJ\n",
      "\n"
     ]
    }
   ],
   "source": [
    "# Save your notebook first, then run this cell to submit.\n",
    "import jassign.to_pdf\n",
    "jassign.to_pdf.generate_pdf('homework1.ipynb', 'homework1.pdf')\n",
    "ok.submit()"
   ]
  },
  {
   "cell_type": "code",
   "execution_count": null,
   "metadata": {},
   "outputs": [],
   "source": []
  }
 ],
 "metadata": {
  "kernelspec": {
   "display_name": "Python 3",
   "language": "python",
   "name": "python3"
  },
  "language_info": {
   "codemirror_mode": {
    "name": "ipython",
    "version": 3
   },
   "file_extension": ".py",
   "mimetype": "text/x-python",
   "name": "python",
   "nbconvert_exporter": "python",
   "pygments_lexer": "ipython3",
   "version": "3.6.7"
  }
 },
 "nbformat": 4,
 "nbformat_minor": 2
}
